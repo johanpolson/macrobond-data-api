{
 "cells": [
  {
   "cell_type": "markdown",
   "metadata": {},
   "source": [
    "# 1.2 - Macrobond web API - Fetching a Time Series\n",
    "\n",
    "*Retrieving specific observations*\n",
    "\n",
    "This notebook is designed to act as a template and guidline in which certain elements can be minipulated to get the desired outcome. Here we demonstrates how you can use the web API to pull out observations. \n",
    "\n",
    "Macrobond's data contains three objects:\n",
    "* dates \n",
    "* values \n",
    "* metadata\n",
    "\n",
    "We will focus here on understanding the dates and values.\n",
    "\n",
    "*Full error handling is omitted for brevity*"
   ]
  },
  {
   "cell_type": "markdown",
   "metadata": {},
   "source": [
    "***\n",
    "\n",
    "## Importing packages"
   ]
  },
  {
   "cell_type": "code",
   "execution_count": 6,
   "metadata": {},
   "outputs": [],
   "source": [
    "from macrobond_financial.web import WebClient"
   ]
  },
  {
   "cell_type": "markdown",
   "metadata": {},
   "source": [
    "***\n",
    "\n",
    "## Get the data\n",
    "Our typical workflow starts with retrieving a specific time series.\n",
    "Feel free to refer to https://api.macrobondfinancial.com/swagger/index.html to get the comprehensive list of web API endpoints and parameters used.\n",
    "\n",
    "In the example below, we will use time series `ustrad2120`: \n",
    "> **United States, Foreign Trade, Energy Information Administration, Crude Oil & Petroleum Products, Export, Petroleum Products, Propane & Propylene**"
   ]
  },
  {
   "cell_type": "code",
   "execution_count": 7,
   "metadata": {},
   "outputs": [
    {
     "data": {
      "text/plain": [
       "2010-05-31 00:00:00+00:00      72000.0\n",
       "2010-06-07 00:00:00+00:00      72000.0\n",
       "2010-06-14 00:00:00+00:00      72000.0\n",
       "2010-06-21 00:00:00+00:00      72000.0\n",
       "2010-06-28 00:00:00+00:00      72000.0\n",
       "                               ...    \n",
       "2022-05-09 00:00:00+00:00    1313000.0\n",
       "2022-05-16 00:00:00+00:00    1641000.0\n",
       "2022-05-23 00:00:00+00:00    1342000.0\n",
       "2022-05-30 00:00:00+00:00    1023000.0\n",
       "2022-06-06 00:00:00+00:00    1448000.0\n",
       "Name: ustrad2120, Length: 628, dtype: float64"
      ]
     },
     "execution_count": 7,
     "metadata": {},
     "output_type": "execute_result"
    }
   ],
   "source": [
    "with WebClient() as api:\n",
    "    pd_series = api.get_one_series( \"ustrad2120\").values_to_pd_series()\n",
    "pd_series"
   ]
  },
  {
   "cell_type": "markdown",
   "metadata": {},
   "source": [
    "***\n",
    "\n",
    "## Visualising the observations\n",
    "Let's visualise the dates and values in a Pandas dataframe. \n",
    "You will see below the time series with full history. \n",
    "Note that Macrobond's database is object-based so you will always retrieve the full arrays of dates and values for the time series you are requesting."
   ]
  },
  {
   "cell_type": "code",
   "execution_count": 8,
   "metadata": {},
   "outputs": [
    {
     "data": {
      "text/plain": [
       "Ellipsis"
      ]
     },
     "execution_count": 8,
     "metadata": {},
     "output_type": "execute_result"
    }
   ],
   "source": [
    "..."
   ]
  },
  {
   "cell_type": "markdown",
   "metadata": {},
   "source": [
    "Note that the FetchSeries endpoint allows to request multiple time series in a single request. The format is n=[time_series1]&n=[time_series2].\n",
    "Feel free to refer to notebook 3.1 - Macrobond web API - Aligning multiple Time Series to understand how you can harmonise the frequency, currency and calendar of multiple time series."
   ]
  }
 ],
 "metadata": {
  "kernelspec": {
   "display_name": "Python 3.7.9 64-bit",
   "language": "python",
   "name": "python3"
  },
  "language_info": {
   "codemirror_mode": {
    "name": "ipython",
    "version": 3
   },
   "file_extension": ".py",
   "mimetype": "text/x-python",
   "name": "python",
   "nbconvert_exporter": "python",
   "pygments_lexer": "ipython3",
   "version": "3.7.9"
  },
  "vscode": {
   "interpreter": {
    "hash": "1f07703081b087c011f489eea73b431cab9a444b9d10d39f2f152d47c6ed00d0"
   }
  }
 },
 "nbformat": 4,
 "nbformat_minor": 2
}
