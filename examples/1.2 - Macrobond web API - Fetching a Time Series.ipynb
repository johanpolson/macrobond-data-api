{
 "cells": [
  {
   "cell_type": "markdown",
   "metadata": {},
   "source": [
    "# 1.2 - Macrobond web API - Fetching a Time Series\n",
    "\n",
    "*Retrieving specific observations*\n",
    "\n",
    "This notebook is designed to act as a template and guidline in which certain elements can be minipulated to get the desired outcome. Here we demonstrates how you can use the web API to pull out observations. \n",
    "\n",
    "Macrobond's data contains three objects:\n",
    "* dates \n",
    "* values \n",
    "* metadata\n",
    "\n",
    "We will focus here on understanding the dates and values.\n",
    "\n",
    "*Full error handling is omitted for brevity*"
   ]
  },
  {
   "cell_type": "markdown",
   "metadata": {},
   "source": [
    "***\n",
    "\n",
    "## Importing packages"
   ]
  },
  {
   "cell_type": "code",
   "execution_count": 2,
   "metadata": {},
   "outputs": [],
   "source": [
    "from macrobond_financial.common import Credentials\n",
    "from macrobond_financial.web import WebClient"
   ]
  },
  {
   "cell_type": "markdown",
   "metadata": {},
   "source": [
    "***\n",
    "\n",
    "## Authentication\n",
    "\n",
    "If you have a Macrobond's web API account, enter your *client_id* and *client_secret* below."
   ]
  },
  {
   "cell_type": "code",
   "execution_count": 3,
   "metadata": {},
   "outputs": [],
   "source": [
    "credentials = Credentials()"
   ]
  },
  {
   "cell_type": "markdown",
   "metadata": {},
   "source": [
    "***\n",
    "\n",
    "## Get the data\n",
    "Our typical workflow starts with retrieving a specific time series.\n",
    "Feel free to refer to https://api.macrobondfinancial.com/swagger/index.html to get the comprehensive list of web API endpoints and parameters used.\n",
    "\n",
    "In the example below, we will use time series `ustrad2120`: \n",
    "> **United States, Foreign Trade, Energy Information Administration, Crude Oil & Petroleum Products, Export, Petroleum Products, Propane & Propylene**"
   ]
  },
  {
   "cell_type": "code",
   "execution_count": 4,
   "metadata": {},
   "outputs": [
    {
     "data": {
      "text/html": [
       "<div>\n",
       "<style scoped>\n",
       "    .dataframe tbody tr th:only-of-type {\n",
       "        vertical-align: middle;\n",
       "    }\n",
       "\n",
       "    .dataframe tbody tr th {\n",
       "        vertical-align: top;\n",
       "    }\n",
       "\n",
       "    .dataframe thead th {\n",
       "        text-align: right;\n",
       "    }\n",
       "</style>\n",
       "<table border=\"1\" class=\"dataframe\">\n",
       "  <thead>\n",
       "    <tr style=\"text-align: right;\">\n",
       "      <th></th>\n",
       "      <th>Values</th>\n",
       "      <th>Dates</th>\n",
       "    </tr>\n",
       "  </thead>\n",
       "  <tbody>\n",
       "    <tr>\n",
       "      <th>0</th>\n",
       "      <td>72000</td>\n",
       "      <td>2010-05-31 00:00:00+00:00</td>\n",
       "    </tr>\n",
       "    <tr>\n",
       "      <th>1</th>\n",
       "      <td>72000</td>\n",
       "      <td>2010-06-07 00:00:00+00:00</td>\n",
       "    </tr>\n",
       "    <tr>\n",
       "      <th>2</th>\n",
       "      <td>72000</td>\n",
       "      <td>2010-06-14 00:00:00+00:00</td>\n",
       "    </tr>\n",
       "    <tr>\n",
       "      <th>3</th>\n",
       "      <td>72000</td>\n",
       "      <td>2010-06-21 00:00:00+00:00</td>\n",
       "    </tr>\n",
       "    <tr>\n",
       "      <th>4</th>\n",
       "      <td>72000</td>\n",
       "      <td>2010-06-28 00:00:00+00:00</td>\n",
       "    </tr>\n",
       "    <tr>\n",
       "      <th>...</th>\n",
       "      <td>...</td>\n",
       "      <td>...</td>\n",
       "    </tr>\n",
       "    <tr>\n",
       "      <th>607</th>\n",
       "      <td>1023000</td>\n",
       "      <td>2022-01-17 00:00:00+00:00</td>\n",
       "    </tr>\n",
       "    <tr>\n",
       "      <th>608</th>\n",
       "      <td>1249000</td>\n",
       "      <td>2022-01-24 00:00:00+00:00</td>\n",
       "    </tr>\n",
       "    <tr>\n",
       "      <th>609</th>\n",
       "      <td>641000</td>\n",
       "      <td>2022-01-31 00:00:00+00:00</td>\n",
       "    </tr>\n",
       "    <tr>\n",
       "      <th>610</th>\n",
       "      <td>1244000</td>\n",
       "      <td>2022-02-07 00:00:00+00:00</td>\n",
       "    </tr>\n",
       "    <tr>\n",
       "      <th>611</th>\n",
       "      <td>1273000</td>\n",
       "      <td>2022-02-14 00:00:00+00:00</td>\n",
       "    </tr>\n",
       "  </tbody>\n",
       "</table>\n",
       "<p>612 rows × 2 columns</p>\n",
       "</div>"
      ],
      "text/plain": [
       "      Values                     Dates\n",
       "0      72000 2010-05-31 00:00:00+00:00\n",
       "1      72000 2010-06-07 00:00:00+00:00\n",
       "2      72000 2010-06-14 00:00:00+00:00\n",
       "3      72000 2010-06-21 00:00:00+00:00\n",
       "4      72000 2010-06-28 00:00:00+00:00\n",
       "..       ...                       ...\n",
       "607  1023000 2022-01-17 00:00:00+00:00\n",
       "608  1249000 2022-01-24 00:00:00+00:00\n",
       "609   641000 2022-01-31 00:00:00+00:00\n",
       "610  1244000 2022-02-07 00:00:00+00:00\n",
       "611  1273000 2022-02-14 00:00:00+00:00\n",
       "\n",
       "[612 rows x 2 columns]"
      ]
     },
     "execution_count": 4,
     "metadata": {},
     "output_type": "execute_result"
    }
   ],
   "source": [
    "with WebClient(credentials.client_id, credentials.client_secret) as api:\n",
    "    data_frame = api.series.get_one_series('ustrad2120').values_and_dates_as_data_frame()\n",
    "data_frame"
   ]
  },
  {
   "cell_type": "markdown",
   "metadata": {},
   "source": [
    "***\n",
    "\n",
    "## Visualising the observations\n",
    "Let's visualise the dates and values in a Pandas dataframe. \n",
    "You will see below the time series with full history. \n",
    "Note that Macrobond's database is object-based so you will always retrieve the full arrays of dates and values for the time series you are requesting."
   ]
  },
  {
   "cell_type": "code",
   "execution_count": null,
   "metadata": {},
   "outputs": [],
   "source": [
    "..."
   ]
  },
  {
   "cell_type": "markdown",
   "metadata": {},
   "source": [
    "Note that the FetchSeries endpoint allows to request multiple time series in a single request. The format is n=[time_series1]&n=[time_series2].\n",
    "Feel free to refer to notebook 3.1 - Macrobond web API - Aligning multiple Time Series to understand how you can harmonise the frequency, currency and calendar of multiple time series."
   ]
  }
 ],
 "metadata": {
  "interpreter": {
   "hash": "ed225720166559e7176d3793db16a2fd8d295f725007103b21ac3099d2a89ee8"
  },
  "kernelspec": {
   "display_name": "Python 3.8.8 64-bit (conda)",
   "name": "python3"
  },
  "language_info": {
   "codemirror_mode": {
    "name": "ipython",
    "version": 3
   },
   "file_extension": ".py",
   "mimetype": "text/x-python",
   "name": "python",
   "nbconvert_exporter": "python",
   "pygments_lexer": "ipython3",
   "version": "3.6.8"
  }
 },
 "nbformat": 4,
 "nbformat_minor": 2
}
