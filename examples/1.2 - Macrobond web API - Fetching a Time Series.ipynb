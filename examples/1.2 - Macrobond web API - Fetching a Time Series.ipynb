{
 "cells": [
  {
   "cell_type": "markdown",
   "metadata": {},
   "source": [
    "# 1.2 - Macrobond web API - Fetching a Time Series\n",
    "\n",
    "*Retrieving specific observations*\n",
    "\n",
    "This notebook is designed to act as a template and guidline in which certain elements can be minipulated to get the desired outcome. Here we demonstrates how you can use the web API to pull out observations. \n",
    "\n",
    "Macrobond's data contains three objects:\n",
    "* dates \n",
    "* values \n",
    "* metadata\n",
    "\n",
    "We will focus here on understanding the dates and values.\n",
    "\n",
    "*Full error handling is omitted for brevity*"
   ]
  },
  {
   "cell_type": "markdown",
   "metadata": {},
   "source": [
    "***\n",
    "\n",
    "## Importing packages"
   ]
  },
  {
   "cell_type": "code",
   "execution_count": 2,
   "metadata": {},
   "outputs": [],
   "source": [
    "from macrobond_financial.common import Credentials\n",
    "from macrobond_financial.web import WebClient"
   ]
  },
  {
   "cell_type": "markdown",
   "metadata": {},
   "source": [
    "***\n",
    "\n",
    "## Authentication\n",
    "\n",
    "If you have a Macrobond's web API account, enter your *client_id* and *client_secret* below."
   ]
  },
  {
   "cell_type": "code",
   "execution_count": 3,
   "metadata": {},
   "outputs": [],
   "source": [
    "credentials = Credentials()"
   ]
  },
  {
   "cell_type": "markdown",
   "metadata": {},
   "source": [
    "***\n",
    "\n",
    "## Get the data\n",
    "Our typical workflow starts with retrieving a specific time series.\n",
    "Feel free to refer to https://api.macrobondfinancial.com/swagger/index.html to get the comprehensive list of web API endpoints and parameters used.\n",
    "\n",
    "In the example below, we will use time series `ustrad2120`: \n",
    "> **United States, Foreign Trade, Energy Information Administration, Crude Oil & Petroleum Products, Export, Petroleum Products, Propane & Propylene**"
   ]
  },
  {
   "cell_type": "code",
   "execution_count": 4,
   "metadata": {},
   "outputs": [
    {
     "data": {
      "text/html": [
       "<div>\n",
       "<style scoped>\n",
       "    .dataframe tbody tr th:only-of-type {\n",
       "        vertical-align: middle;\n",
       "    }\n",
       "\n",
       "    .dataframe tbody tr th {\n",
       "        vertical-align: top;\n",
       "    }\n",
       "\n",
       "    .dataframe thead th {\n",
       "        text-align: right;\n",
       "    }\n",
       "</style>\n",
       "<table border=\"1\" class=\"dataframe\">\n",
       "  <thead>\n",
       "    <tr style=\"text-align: right;\">\n",
       "      <th></th>\n",
       "      <th>Values</th>\n",
       "      <th>Dates</th>\n",
       "    </tr>\n",
       "  </thead>\n",
       "  <tbody>\n",
       "    <tr>\n",
       "      <th>0</th>\n",
       "      <td>72000.0</td>\n",
       "      <td>2010-05-31 00:00:00+00:00</td>\n",
       "    </tr>\n",
       "    <tr>\n",
       "      <th>1</th>\n",
       "      <td>72000.0</td>\n",
       "      <td>2010-06-07 00:00:00+00:00</td>\n",
       "    </tr>\n",
       "    <tr>\n",
       "      <th>2</th>\n",
       "      <td>72000.0</td>\n",
       "      <td>2010-06-14 00:00:00+00:00</td>\n",
       "    </tr>\n",
       "    <tr>\n",
       "      <th>3</th>\n",
       "      <td>72000.0</td>\n",
       "      <td>2010-06-21 00:00:00+00:00</td>\n",
       "    </tr>\n",
       "    <tr>\n",
       "      <th>4</th>\n",
       "      <td>72000.0</td>\n",
       "      <td>2010-06-28 00:00:00+00:00</td>\n",
       "    </tr>\n",
       "    <tr>\n",
       "      <th>...</th>\n",
       "      <td>...</td>\n",
       "      <td>...</td>\n",
       "    </tr>\n",
       "    <tr>\n",
       "      <th>619</th>\n",
       "      <td>1205000.0</td>\n",
       "      <td>2022-04-11 00:00:00+00:00</td>\n",
       "    </tr>\n",
       "    <tr>\n",
       "      <th>620</th>\n",
       "      <td>1397000.0</td>\n",
       "      <td>2022-04-18 00:00:00+00:00</td>\n",
       "    </tr>\n",
       "    <tr>\n",
       "      <th>621</th>\n",
       "      <td>1205000.0</td>\n",
       "      <td>2022-04-25 00:00:00+00:00</td>\n",
       "    </tr>\n",
       "    <tr>\n",
       "      <th>622</th>\n",
       "      <td>1195000.0</td>\n",
       "      <td>2022-05-02 00:00:00+00:00</td>\n",
       "    </tr>\n",
       "    <tr>\n",
       "      <th>623</th>\n",
       "      <td>1313000.0</td>\n",
       "      <td>2022-05-09 00:00:00+00:00</td>\n",
       "    </tr>\n",
       "  </tbody>\n",
       "</table>\n",
       "<p>624 rows × 2 columns</p>\n",
       "</div>"
      ],
      "text/plain": [
       "        Values                     Dates\n",
       "0      72000.0 2010-05-31 00:00:00+00:00\n",
       "1      72000.0 2010-06-07 00:00:00+00:00\n",
       "2      72000.0 2010-06-14 00:00:00+00:00\n",
       "3      72000.0 2010-06-21 00:00:00+00:00\n",
       "4      72000.0 2010-06-28 00:00:00+00:00\n",
       "..         ...                       ...\n",
       "619  1205000.0 2022-04-11 00:00:00+00:00\n",
       "620  1397000.0 2022-04-18 00:00:00+00:00\n",
       "621  1205000.0 2022-04-25 00:00:00+00:00\n",
       "622  1195000.0 2022-05-02 00:00:00+00:00\n",
       "623  1313000.0 2022-05-09 00:00:00+00:00\n",
       "\n",
       "[624 rows x 2 columns]"
      ]
     },
     "execution_count": 4,
     "metadata": {},
     "output_type": "execute_result"
    }
   ],
   "source": [
    "with WebClient(credentials.client_id, credentials.client_secret) as api:\n",
    "    data_frame = api.get_one_series(\n",
    "        \"ustrad2120\"\n",
    "    ).values_and_dates_as_data_frame()\n",
    "data_frame"
   ]
  },
  {
   "cell_type": "markdown",
   "metadata": {},
   "source": [
    "***\n",
    "\n",
    "## Visualising the observations\n",
    "Let's visualise the dates and values in a Pandas dataframe. \n",
    "You will see below the time series with full history. \n",
    "Note that Macrobond's database is object-based so you will always retrieve the full arrays of dates and values for the time series you are requesting."
   ]
  },
  {
   "cell_type": "code",
   "execution_count": 4,
   "metadata": {},
   "outputs": [
    {
     "data": {
      "text/plain": [
       "Ellipsis"
      ]
     },
     "execution_count": 4,
     "metadata": {},
     "output_type": "execute_result"
    }
   ],
   "source": [
    "..."
   ]
  },
  {
   "cell_type": "markdown",
   "metadata": {},
   "source": [
    "Note that the FetchSeries endpoint allows to request multiple time series in a single request. The format is n=[time_series1]&n=[time_series2].\n",
    "Feel free to refer to notebook 3.1 - Macrobond web API - Aligning multiple Time Series to understand how you can harmonise the frequency, currency and calendar of multiple time series."
   ]
  }
 ],
 "metadata": {
  "interpreter": {
   "hash": "2881cb102472c0a2cc7b98c9f5b468e81049b20ea6d80c54eb33ba6f13a3277c"
  },
  "kernelspec": {
   "display_name": "Python 3.10.4 64-bit",
   "language": "python",
   "name": "python3"
  },
  "language_info": {
   "codemirror_mode": {
    "name": "ipython",
    "version": 3
   },
   "file_extension": ".py",
   "mimetype": "text/x-python",
   "name": "python",
   "nbconvert_exporter": "python",
   "pygments_lexer": "ipython3",
   "version": "3.10.4"
  }
 },
 "nbformat": 4,
 "nbformat_minor": 2
}
