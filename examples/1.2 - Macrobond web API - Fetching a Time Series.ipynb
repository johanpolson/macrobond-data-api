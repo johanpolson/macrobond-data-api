{
 "cells": [
  {
   "cell_type": "markdown",
   "metadata": {},
   "source": [
    "# 1.2 - Macrobond web API - Fetching a Time Series\n",
    "\n",
    "*Retrieving specific observations*\n",
    "\n",
    "This notebook is designed to act as a template and guidline in which certain elements can be minipulated to get the desired outcome. Here we demonstrates how you can use the web API to pull out observations. \n",
    "\n",
    "Macrobond's data contains three objects:\n",
    "* dates \n",
    "* values \n",
    "* metadata\n",
    "\n",
    "We will focus here on understanding the dates and values.\n",
    "\n",
    "*The examples uses the Web API, but you can chose to use the desktop COM API and get the same result. Full error handling is omitted for brevity*"
   ]
  },
  {
   "cell_type": "markdown",
   "metadata": {},
   "source": [
    "***\n",
    "\n",
    "## Importing packages"
   ]
  },
  {
   "cell_type": "code",
   "execution_count": null,
   "metadata": {},
   "outputs": [],
   "source": [
    "from macrobond_financial.web import WebClient"
   ]
  },
  {
   "cell_type": "markdown",
   "metadata": {},
   "source": [
    "***\n",
    "\n",
    "## Get the data\n",
    "Our typical workflow starts with retrieving a specific time series.\n",
    "Feel free to refer to {TODO: provide link} to get the comprehensive list of web API endpoints and parameters used.\n",
    "\n",
    "In the example below, we will use time series `ustrad2120`: \n",
    "> **United States, Foreign Trade, Energy Information Administration, Crude Oil & Petroleum Products, Export, Petroleum Products, Propane & Propylene**"
   ]
  },
  {
   "cell_type": "code",
   "execution_count": null,
   "metadata": {},
   "outputs": [],
   "source": [
    "with WebClient() as api:\n",
    "    pd_series = api.get_one_series( \"ustrad2120\").values_to_pd_series()\n",
    "pd_series"
   ]
  },
  {
   "cell_type": "markdown",
   "metadata": {},
   "source": [
    "***\n",
    "\n",
    "## Visualising the observations\n",
    "Let's visualise the dates and values in a Pandas dataframe. \n",
    "You will see below the time series with full history. \n",
    "Note that Macrobond's database is object-based so you will always retrieve the full arrays of dates and values for the time series you are requesting."
   ]
  },
  {
   "cell_type": "code",
   "execution_count": null,
   "metadata": {},
   "outputs": [],
   "source": [
    "..."
   ]
  },
  {
   "cell_type": "markdown",
   "metadata": {},
   "source": [
    "Note that the FetchSeries endpoint allows to request multiple time series in a single request. The format is n=[time_series1]&n=[time_series2].\n",
    "Feel free to refer to notebook 3.1 - Macrobond web API - Aligning multiple Time Series to understand how you can harmonise the frequency, currency and calendar of multiple time series."
   ]
  }
 ],
 "metadata": {
  "interpreter": {
   "hash": "2881cb102472c0a2cc7b98c9f5b468e81049b20ea6d80c54eb33ba6f13a3277c"
  },
  "kernelspec": {
   "display_name": "Python 3.10.4 64-bit",
   "language": "python",
   "name": "python3"
  },
  "language_info": {
   "codemirror_mode": {
    "name": "ipython",
    "version": 3
   },
   "file_extension": ".py",
   "mimetype": "text/x-python",
   "name": "python",
   "nbconvert_exporter": "python",
   "pygments_lexer": "ipython3",
   "version": "3.10.4"
  },
  "vscode": {
   "interpreter": {
    "hash": "1f07703081b087c011f489eea73b431cab9a444b9d10d39f2f152d47c6ed00d0"
   }
  }
 },
 "nbformat": 4,
 "nbformat_minor": 2
}
