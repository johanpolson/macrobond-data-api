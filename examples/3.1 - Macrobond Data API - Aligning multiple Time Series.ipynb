{
 "cells": [
  {
   "attachments": {},
   "cell_type": "markdown",
   "metadata": {},
   "source": [
    "# 3.1 - Macrobond Data API for Python - Aligning multiple Time Series\n",
    "\n",
    "*Using Macrobond's web API features to align various time series on a single calendar, frequency or currency and deal with missing values when observations do not all carry the same frequency.*\n",
    "\n",
    "This notebook aims to provide examples of how to use Macrobond Data API for Python as well as insights on the various methodologies used to align our time series for analysis.\n",
    "\n",
    "We will focus on using the get_unified_series method. This helps you doing the necessary pre-work before running your analysis or model.\n",
    "\n",
    "You can find a full description of all methods and parameters used in the examples in the [documentation of the API](https://macrobond.github.io/macrobond-data-api/common/api.html).\n",
    "\n",
    "*The examples uses the common functions of Macrobond API. Full error handling is omitted for brevity*"
   ]
  },
  {
   "cell_type": "markdown",
   "metadata": {},
   "source": [
    "***\n",
    "\n",
    "## Importing packages"
   ]
  },
  {
   "cell_type": "code",
   "execution_count": 1,
   "metadata": {},
   "outputs": [],
   "source": [
    "import macrobond_data_api as mda\n",
    "from macrobond_data_api.common.types import StartOrEndPoint\n",
    "from macrobond_data_api.common.types import SeriesEntry\n",
    "from macrobond_data_api.common.enums import SeriesFrequency\n",
    "from macrobond_data_api.common.enums import CalendarMergeMode\n",
    "from macrobond_data_api.common.enums import SeriesMissingValueMethod\n",
    "\n",
    "import statsmodels.api as statsmodels_api\n",
    "from sklearn import linear_model"
   ]
  },
  {
   "attachments": {},
   "cell_type": "markdown",
   "metadata": {},
   "source": [
    "***\n",
    "\n",
    "## Get the data - fetchunifiedseries\n",
    "\n",
    "Note that we are using here the below time series in this example:\n",
    "* cyinea0001 - Cyprus, Earnings, Wage Growth, Nominal\n",
    "* cypric0014 - Cyprus, Consumer Price Index, Miscellaneous Goods & Services, Index\n",
    "* cytour0076 - Cyprus, Income, Revenue, Total, EUR\n",
    "* un_myos_cy_total - Cyprus, Human Development, Education, Mean Years of Schooling\n",
    "\n",
    "We want to look at data from Cyprus and conduct multiple regression analysis further down the notebook. Our dataset has the following features:\n",
    "\n",
    "•\tOur dependant variable will be nominal wage growth, which has an inception date of 1960 and is collected from the Cyprus Statistical Service (CYSTAT), the frequency is annual.\n",
    "\n",
    "•\tOur first independent variable will be Consumer Price Index for Miscellaneous Goods & Services which has an inception date of 2000 and is also collected from CYSTAT, and the frequency is monthly.\n",
    "\n",
    "•\tOur second independent variable is Income, total Revenue from foreign tourism (EUR) which has an inception date of 2001 and collected from CYSTAT, it has a monthly frequency.\n",
    "\n",
    "•\tOur final independent variable is Education, Mean Years of Schooling which is collected from United Nations Development Programme (UNDP) and has an inception date of 1990, the frequency is annual.\n",
    "Immediately we can see that the current data set have different time scales, frequencies and currencies. So, in order for us to make the data comparable, we will utilise the 'Fetchallunifiedseries' endpoint which utilises a post request, which takes the following form below, let's see what each of these mean and how it can manipulate our data."
   ]
  },
  {
   "attachments": {},
   "cell_type": "markdown",
   "metadata": {},
   "source": [
    "In the below code, we are harmonizing the frequency to Annual, the currency to USD and the start and end points from all series."
   ]
  },
  {
   "cell_type": "code",
   "execution_count": 2,
   "metadata": {},
   "outputs": [],
   "source": [
    "data_frame = mda.get_unified_series(\n",
    "    SeriesEntry(missing_value_method=SeriesMissingValueMethod.NONE, name=\"cyinea0001\"),\n",
    "    SeriesEntry(missing_value_method=SeriesMissingValueMethod.NONE, name=\"cypric0014\"),\n",
    "    SeriesEntry(missing_value_method=SeriesMissingValueMethod.NONE, name=\"cytour0076\"),\n",
    "    SeriesEntry(missing_value_method=SeriesMissingValueMethod.NONE, name=\"un_myos_cy_total\"),\n",
    "    frequency=SeriesFrequency.ANNUAL,\n",
    "    currency=\"USD\",\n",
    "    calendar_merge_mode=CalendarMergeMode.AVAILABLE_IN_ALL,\n",
    "    start_point=StartOrEndPoint.data_in_all_series(),\n",
    "    end_point=StartOrEndPoint.data_in_all_series(),\n",
    ").to_pd_data_frame()\n",
    "data_frame.columns = [\n",
    "    \"Date\",\n",
    "    \"Wage Growth\",\n",
    "    \"CPI\",\n",
    "    \"Income from Foreign Tourism\",\n",
    "    \"Mean Years of Schooling\",\n",
    "]\n",
    "data_frame"
   ]
  },
  {
   "cell_type": "markdown",
   "metadata": {},
   "source": [
    "***\n",
    "\n",
    "## Multiple Regression Analysis\n",
    "\n",
    "Now that we have all the variables visually, we will use the package sklearn and from there use the linear_model package to make our model. Let us first start by defining our variables."
   ]
  },
  {
   "cell_type": "code",
   "execution_count": 3,
   "metadata": {},
   "outputs": [],
   "source": [
    "x = data_frame[[\"CPI\", \"Income from Foreign Tourism\", \"Mean Years of Schooling\"]].values\n",
    "y = data_frame[\"Wage Growth\"]\n",
    "\n",
    "regr = linear_model.LinearRegression()\n",
    "regr.fit(x, y)\n",
    "\n",
    "x = statsmodels_api.add_constant(x)\n",
    "Summary = statsmodels_api.OLS(y, x).fit()\n",
    "Summary.summary()"
   ]
  },
  {
   "cell_type": "code",
   "execution_count": 4,
   "metadata": {},
   "outputs": [],
   "source": [
    "CYP_Wage_Growth = regr.predict([[100.010000, 2.994805e09, 12.1712]])\n",
    "print(\"Cyprus Wage Growth Forecast\")\n",
    "print(CYP_Wage_Growth)"
   ]
  },
  {
   "attachments": {},
   "cell_type": "markdown",
   "metadata": {},
   "source": [
    "***\n",
    "\n",
    "## Conclusion\n",
    "\n",
    "Here we can see how the get_unified_series method eases workflows by simply querying the data needed in the model, applying the transformations and visualising the results, rather than doing a one-off mathematical transformation from scratch. Not only this feature saves a lot of time in the preparatory work but it also increases consistency across the various time series and models running off the back of the Macrobond data.  "
   ]
  }
 ],
 "metadata": {
  "kernelspec": {
   "display_name": "Python 3",
   "language": "python",
   "name": "python3"
  },
  "language_info": {
   "codemirror_mode": {
    "name": "ipython",
    "version": 3
   },
   "file_extension": ".py",
   "mimetype": "text/x-python",
   "name": "python",
   "nbconvert_exporter": "python",
   "pygments_lexer": "ipython3",
   "version": "3.11.1"
  },
  "vscode": {
   "interpreter": {
    "hash": "4c65b52ed67bf21a68d91eaf7359cae5864732179fe6cfc221f72bfe728ed10c"
   }
  }
 },
 "nbformat": 4,
 "nbformat_minor": 2
}
