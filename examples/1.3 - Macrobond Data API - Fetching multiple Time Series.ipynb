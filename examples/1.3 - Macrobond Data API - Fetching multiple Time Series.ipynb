{
 "cells": [
  {
   "attachments": {},
   "cell_type": "markdown",
   "metadata": {},
   "source": [
    "# 1.3 - Macrobond Data API for Python - Fetching multiple Time Series\n",
    "\n",
    "This notebook is designed to act as a template and guidline in which certain elements can be minipulated to get the desired outcome. Here we demonstrates how you can use `get_series` to download multiple time series. \n",
    "\n",
    "The `get_many_series` function allows to fetch time series only when they have received updates compared to the last download. For this workflow, we will set datetime data parameter = LastModifiedTimeStamp.\n",
    "\n",
    "The methods `get_series` and `get_many_series` have different use cases. \n",
    "The `get_series` function is convenient when you want to download a handfull of series to use in a model. You get an array back that you can index directly and as many times as you want.\n",
    "\n",
    "The `get_many_series` function is useful when you want to synchronize data with your own database. It has the “LastModified” parameter for each series and it returns a “generator” rather than an array. A generator is not as convenient as an array for direct access, but it allows you to consume a large amount of data in a streaming fashion without loading all the data into memory before you can start processing the data.\n",
    "\n",
    "You can find a full description of all methods and parameters used in the examples in the [documentation of the API](https://macrobond.github.io/macrobond-data-api/common/api.html).\n",
    "\n",
    "*Full error handling is omitted for brevity*"
   ]
  },
  {
   "cell_type": "markdown",
   "metadata": {},
   "source": [
    "***\n",
    "\n",
    "## Importing packages"
   ]
  },
  {
   "cell_type": "code",
   "execution_count": 1,
   "metadata": {},
   "outputs": [],
   "source": [
    "import matplotlib\n",
    "import pandas as pd\n",
    "import matplotlib.pyplot as plt\n",
    "import macrobond_data_api as mda\n",
    "from datetime import datetime"
   ]
  },
  {
   "attachments": {},
   "cell_type": "markdown",
   "metadata": {},
   "source": [
    "***\n",
    "\n",
    "## Get series with your universe\n",
    "\n",
    "We are using `get_series` below. Enter your universe in the payload.\n",
    "\n",
    "As an example, we use the close price of Copper's futures in different positions, from COMEX (1st to 24th)"
   ]
  },
  {
   "cell_type": "code",
   "execution_count": 2,
   "metadata": {
    "tags": []
   },
   "outputs": [],
   "source": [
    "entities = mda.get_series(\n",
    "    \"hg_c1_cl\",\n",
    "    \"hg_c2_cl\",\n",
    "    \"hg_c3_cl\",\n",
    "    \"hg_c4_cl\",\n",
    "    \"hg_c5_cl\",\n",
    "    \"hg_c6_cl\",\n",
    "    \"hg_c7_cl\",\n",
    "    \"hg_c8_cl\",\n",
    "    \"hg_c9_cl\",\n",
    "    \"hg_c10_cl\",\n",
    "    \"hg_c11_cl\",\n",
    "    \"hg_c12_cl\",\n",
    "    \"hg_c13_cl\",\n",
    "    \"hg_c14_cl\",\n",
    "    \"hg_c15_cl\",\n",
    "    \"hg_c16_cl\",\n",
    "    \"hg_c17_cl\",\n",
    "    \"hg_c18_cl\",\n",
    "    \"hg_c19_cl\",\n",
    "    \"hg_c20_cl\",\n",
    "    \"hg_c21_cl\",\n",
    "    \"hg_c22_cl\",\n",
    "    \"hg_c23_cl\",\n",
    "    \"hg_c24_cl\",\n",
    ")"
   ]
  },
  {
   "cell_type": "code",
   "execution_count": 3,
   "metadata": {},
   "outputs": [],
   "source": [
    "df = pd.json_normalize([x.to_dict() for x in entities])"
   ]
  },
  {
   "cell_type": "code",
   "execution_count": 4,
   "metadata": {},
   "outputs": [
    {
     "data": {
      "text/html": [
       "<div>\n",
       "<style scoped>\n",
       "    .dataframe tbody tr th:only-of-type {\n",
       "        vertical-align: middle;\n",
       "    }\n",
       "\n",
       "    .dataframe tbody tr th {\n",
       "        vertical-align: top;\n",
       "    }\n",
       "\n",
       "    .dataframe thead th {\n",
       "        text-align: right;\n",
       "    }\n",
       "</style>\n",
       "<table border=\"1\" class=\"dataframe\">\n",
       "  <thead>\n",
       "    <tr style=\"text-align: right;\">\n",
       "      <th></th>\n",
       "      <th>metadata.Name</th>\n",
       "      <th>metadata.FullDescription</th>\n",
       "      <th>metadata.FuturesPosition</th>\n",
       "      <th>Dates</th>\n",
       "      <th>Values</th>\n",
       "    </tr>\n",
       "  </thead>\n",
       "  <tbody>\n",
       "    <tr>\n",
       "      <th>0</th>\n",
       "      <td>hg_c1_cl</td>\n",
       "      <td>Copper, COMEX, Future, COMEX, 1st Position, Cl...</td>\n",
       "      <td>c1</td>\n",
       "      <td>1959-07-02</td>\n",
       "      <td>0.293</td>\n",
       "    </tr>\n",
       "    <tr>\n",
       "      <th>1</th>\n",
       "      <td>hg_c1_cl</td>\n",
       "      <td>Copper, COMEX, Future, COMEX, 1st Position, Cl...</td>\n",
       "      <td>c1</td>\n",
       "      <td>1959-07-06</td>\n",
       "      <td>0.291</td>\n",
       "    </tr>\n",
       "    <tr>\n",
       "      <th>2</th>\n",
       "      <td>hg_c1_cl</td>\n",
       "      <td>Copper, COMEX, Future, COMEX, 1st Position, Cl...</td>\n",
       "      <td>c1</td>\n",
       "      <td>1959-07-07</td>\n",
       "      <td>0.282</td>\n",
       "    </tr>\n",
       "    <tr>\n",
       "      <th>3</th>\n",
       "      <td>hg_c1_cl</td>\n",
       "      <td>Copper, COMEX, Future, COMEX, 1st Position, Cl...</td>\n",
       "      <td>c1</td>\n",
       "      <td>1959-07-08</td>\n",
       "      <td>0.2846</td>\n",
       "    </tr>\n",
       "    <tr>\n",
       "      <th>4</th>\n",
       "      <td>hg_c1_cl</td>\n",
       "      <td>Copper, COMEX, Future, COMEX, 1st Position, Cl...</td>\n",
       "      <td>c1</td>\n",
       "      <td>1959-07-09</td>\n",
       "      <td>0.276</td>\n",
       "    </tr>\n",
       "    <tr>\n",
       "      <th>...</th>\n",
       "      <td>...</td>\n",
       "      <td>...</td>\n",
       "      <td>...</td>\n",
       "      <td>...</td>\n",
       "      <td>...</td>\n",
       "    </tr>\n",
       "    <tr>\n",
       "      <th>261469</th>\n",
       "      <td>hg_c24_cl</td>\n",
       "      <td>Copper, COMEX, Future, COMEX, 24th Position, C...</td>\n",
       "      <td>c24</td>\n",
       "      <td>2023-04-12</td>\n",
       "      <td>4.0505</td>\n",
       "    </tr>\n",
       "    <tr>\n",
       "      <th>261470</th>\n",
       "      <td>hg_c24_cl</td>\n",
       "      <td>Copper, COMEX, Future, COMEX, 24th Position, C...</td>\n",
       "      <td>c24</td>\n",
       "      <td>2023-04-13</td>\n",
       "      <td>4.084</td>\n",
       "    </tr>\n",
       "    <tr>\n",
       "      <th>261471</th>\n",
       "      <td>hg_c24_cl</td>\n",
       "      <td>Copper, COMEX, Future, COMEX, 24th Position, C...</td>\n",
       "      <td>c24</td>\n",
       "      <td>2023-04-14</td>\n",
       "      <td>4.074</td>\n",
       "    </tr>\n",
       "    <tr>\n",
       "      <th>261472</th>\n",
       "      <td>hg_c24_cl</td>\n",
       "      <td>Copper, COMEX, Future, COMEX, 24th Position, C...</td>\n",
       "      <td>c24</td>\n",
       "      <td>2023-04-17</td>\n",
       "      <td>4.0465</td>\n",
       "    </tr>\n",
       "    <tr>\n",
       "      <th>261473</th>\n",
       "      <td>hg_c24_cl</td>\n",
       "      <td>Copper, COMEX, Future, COMEX, 24th Position, C...</td>\n",
       "      <td>c24</td>\n",
       "      <td>2023-04-18</td>\n",
       "      <td>4.0755</td>\n",
       "    </tr>\n",
       "  </tbody>\n",
       "</table>\n",
       "<p>261474 rows × 5 columns</p>\n",
       "</div>"
      ],
      "text/plain": [
       "       metadata.Name                           metadata.FullDescription  \\\n",
       "0           hg_c1_cl  Copper, COMEX, Future, COMEX, 1st Position, Cl...   \n",
       "1           hg_c1_cl  Copper, COMEX, Future, COMEX, 1st Position, Cl...   \n",
       "2           hg_c1_cl  Copper, COMEX, Future, COMEX, 1st Position, Cl...   \n",
       "3           hg_c1_cl  Copper, COMEX, Future, COMEX, 1st Position, Cl...   \n",
       "4           hg_c1_cl  Copper, COMEX, Future, COMEX, 1st Position, Cl...   \n",
       "...              ...                                                ...   \n",
       "261469     hg_c24_cl  Copper, COMEX, Future, COMEX, 24th Position, C...   \n",
       "261470     hg_c24_cl  Copper, COMEX, Future, COMEX, 24th Position, C...   \n",
       "261471     hg_c24_cl  Copper, COMEX, Future, COMEX, 24th Position, C...   \n",
       "261472     hg_c24_cl  Copper, COMEX, Future, COMEX, 24th Position, C...   \n",
       "261473     hg_c24_cl  Copper, COMEX, Future, COMEX, 24th Position, C...   \n",
       "\n",
       "       metadata.FuturesPosition      Dates  Values  \n",
       "0                            c1 1959-07-02   0.293  \n",
       "1                            c1 1959-07-06   0.291  \n",
       "2                            c1 1959-07-07   0.282  \n",
       "3                            c1 1959-07-08  0.2846  \n",
       "4                            c1 1959-07-09   0.276  \n",
       "...                         ...        ...     ...  \n",
       "261469                      c24 2023-04-12  4.0505  \n",
       "261470                      c24 2023-04-13   4.084  \n",
       "261471                      c24 2023-04-14   4.074  \n",
       "261472                      c24 2023-04-17  4.0465  \n",
       "261473                      c24 2023-04-18  4.0755  \n",
       "\n",
       "[261474 rows x 5 columns]"
      ]
     },
     "execution_count": 4,
     "metadata": {},
     "output_type": "execute_result"
    }
   ],
   "source": [
    "df2 = (\n",
    "    df.set_index([\"metadata.Name\", \"metadata.FullDescription\", \"metadata.FuturesPosition\"])[[\"Dates\", \"Values\"]]\n",
    "    .apply(pd.Series.explode)\n",
    "    .reset_index()\n",
    ")\n",
    "df2"
   ]
  },
  {
   "cell_type": "code",
   "execution_count": null,
   "metadata": {},
   "outputs": [],
   "source": [
    "df_26 = df2.loc[df2[\"Dates\"] == \"2022-09-26T00:00:00\"]\n",
    "df_27 = df2.loc[df2[\"Dates\"] == \"2022-09-27T00:00:00\"]\n",
    "df_28 = df2.loc[df2[\"Dates\"] == \"2022-09-28T00:00:00\"]"
   ]
  },
  {
   "cell_type": "code",
   "execution_count": null,
   "metadata": {},
   "outputs": [],
   "source": [
    "matplotlib.rcParams[\"figure.facecolor\"] = \"white\"\n",
    "\n",
    "plt.plot(df_26[\"metadata.FuturesPosition\"], df_26[\"Values\"], color=\"darkorange\", marker=\"o\", label=\"26th Septmber\")\n",
    "plt.plot(df_27[\"metadata.FuturesPosition\"], df_27[\"Values\"], color=\"green\", marker=\"o\", label=\"27th Septmber\")\n",
    "plt.plot(df_28[\"metadata.FuturesPosition\"], df_28[\"Values\"], color=\"midnightblue\", marker=\"o\", label=\"28th Septmber\")\n",
    "plt.title(\"Copper COMEX Future last 3 days\", fontsize=14)\n",
    "plt.xlabel(\"FuturesPosition\")\n",
    "plt.ylabel(\"Value\")\n",
    "plt.grid(True)\n",
    "plt.legend(loc=2, ncol=2)\n",
    "plt.autoscale(enable=True, axis=\"both\", tight=None)\n",
    "plt.show()"
   ]
  },
  {
   "attachments": {},
   "cell_type": "markdown",
   "metadata": {},
   "source": [
    "***\n",
    "\n",
    "## Download only if series is updated\n",
    "\n",
    "We now want to check whether our universe needs to be updated or not.\n",
    "You can use the ifModifiedSince parameter within `get_many_series` method where it should correspond to the LastModifiedTimeStamp populated within the metadata of the initial load.\n",
    "\n",
    "Please note that LastModifiedTimeStamp reflects not just changes in values, but can be just a change in the metadata.\n",
    "\n",
    "In this example, as we are using time series with a daily frequency, it is most likely there will be updates from the LastModifiedTimeStamp.\n",
    "In most cases, you do not want to include the series that are not modified in the result, but in this case we have set\n",
    "the `include_not_modified` parameter to `True` in ordert to illustrate that you get a \"Not modified\" 304 response\n",
    "using a time stamp as of the time of the refresh of this notebook.\n",
    "\n",
    "The result will be in the same order as the request."
   ]
  },
  {
   "cell_type": "code",
   "execution_count": 7,
   "metadata": {},
   "outputs": [
    {
     "name": "stdout",
     "output_type": "stream",
     "text": [
      "hg_c1_cl :, 304, Not modified\n",
      "hg_c2_cl :, 304, Not modified\n",
      "hg_c3_cl :, 304, Not modified\n",
      "hg_c4_cl :, 304, Not modified\n",
      "hg_c5_cl :, 304, Not modified\n",
      "hg_c6_cl :, 304, Not modified\n",
      "hg_c7_cl :, 304, Not modified\n",
      "hg_c8_cl :, 304, Not modified\n",
      "hg_c9_cl :, 304, Not modified\n",
      "hg_c10_cl:, 304, Not modified\n",
      "hg_c11_cl:, 304, Not modified\n",
      "hg_c12_cl:, 304, Not modified\n",
      "hg_c13_cl:, 304, Not modified\n",
      "hg_c14_cl:, 304, Not modified\n",
      "hg_c15_cl:, 304, Not modified\n",
      "hg_c16_cl:, 304, Not modified\n",
      "hg_c17_cl:, 304, Not modified\n",
      "hg_c18_cl:, 304, Not modified\n",
      "hg_c19_cl:, 304, Not modified\n",
      "hg_c20_cl:, 304, Not modified\n",
      "hg_c21_cl:, 304, Not modified\n",
      "hg_c22_cl:, 304, Not modified\n",
      "hg_c23_cl:, 304, Not modified\n",
      "hg_c24_cl:, 304, Not modified\n"
     ]
    }
   ],
   "source": [
    "currentTime = datetime.now()\n",
    "for i in mda.get_many_series(\n",
    "    (\"hg_c1_cl \", currentTime),\n",
    "    (\"hg_c2_cl \", currentTime),\n",
    "    (\"hg_c3_cl \", currentTime),\n",
    "    (\"hg_c4_cl \", currentTime),\n",
    "    (\"hg_c5_cl \", currentTime),\n",
    "    (\"hg_c6_cl \", currentTime),\n",
    "    (\"hg_c7_cl \", currentTime),\n",
    "    (\"hg_c8_cl \", currentTime),\n",
    "    (\"hg_c9_cl \", currentTime),\n",
    "    (\"hg_c10_cl\", currentTime),\n",
    "    (\"hg_c11_cl\", currentTime),\n",
    "    (\"hg_c12_cl\", currentTime),\n",
    "    (\"hg_c13_cl\", currentTime),\n",
    "    (\"hg_c14_cl\", currentTime),\n",
    "    (\"hg_c15_cl\", currentTime),\n",
    "    (\"hg_c16_cl\", currentTime),\n",
    "    (\"hg_c17_cl\", currentTime),\n",
    "    (\"hg_c18_cl\", currentTime),\n",
    "    (\"hg_c19_cl\", currentTime),\n",
    "    (\"hg_c20_cl\", currentTime),\n",
    "    (\"hg_c21_cl\", currentTime),\n",
    "    (\"hg_c22_cl\", currentTime),\n",
    "    (\"hg_c23_cl\", currentTime),\n",
    "    (\"hg_c24_cl\", currentTime),\n",
    "    include_not_modified = True\n",
    "):\n",
    "    if i.is_error:\n",
    "        print(f\"{i.name}:, {i.status_code}, {i.error_message}\")"
   ]
  },
  {
   "attachments": {},
   "cell_type": "markdown",
   "metadata": {},
   "source": [
    "None of our time series have received any update. When there are updates, the time series will be downloaded by the request.\n",
    "\n",
    "A typical workflow is to download the series the first time without specifying any timestamp, store the timestamp with the series, and then specify this in subsequent requests.\n",
    "\n",
    "Here is below an example where we fetch just one series, without knowing the last modification time, and then we do a second request. In this case it is very unlikely that the series was updated between these calls, so the second request will most likely return status NOT_MODIFIED."
   ]
  },
  {
   "cell_type": "code",
   "execution_count": 8,
   "metadata": {},
   "outputs": [
    {
     "name": "stdout",
     "output_type": "stream",
     "text": [
      "First request: status: OK, last_modified: 2023-04-18 22:49:47+00:00\n",
      "Second request: status: NOT_MODIFIED\n"
     ]
    }
   ],
   "source": [
    "first = next(mda.get_many_series((\"hg_c2_cl\", None)))\n",
    "last_modified = first.last_modified\n",
    "\n",
    "print(f\"First request: status: {first.status_code.name}, last_modified: {last_modified}\")\n",
    "\n",
    "# Here we imagine that we store this series and ask for updates at a later time\n",
    "\n",
    "second = next(mda.get_many_series((\"hg_c2_cl\", last_modified, ), include_not_modified = True))\n",
    "print(f\"Second request: status: {second.status_code.name}\")"
   ]
  }
 ],
 "metadata": {
  "kernelspec": {
   "display_name": ".venv",
   "language": "python",
   "name": "python3"
  },
  "language_info": {
   "codemirror_mode": {
    "name": "ipython",
    "version": 3
   },
   "file_extension": ".py",
   "mimetype": "text/x-python",
   "name": "python",
   "nbconvert_exporter": "python",
   "pygments_lexer": "ipython3",
   "version": "3.7.9"
  },
  "vscode": {
   "interpreter": {
    "hash": "86a2e3d8a0120bdc40b2539e656f8feac92db1855c9ec23c2a79377373a2ecfd"
   }
  }
 },
 "nbformat": 4,
 "nbformat_minor": 2
}
