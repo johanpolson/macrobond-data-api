{
 "cells": [
  {
   "attachments": {},
   "cell_type": "markdown",
   "metadata": {},
   "source": [
    "# 5.1 - Macrobond Data API for Python - Using the Macrobond Tree Structure\n",
    "\n",
    "*Retrieving information from the Macrobond Tree Structure*\n",
    "Note that the Tree Structure is subject to frequent evolution. Hence, it is not recommended using hardcoded parts of the tree to build and update your universe on production. The methods below can be mostly used for data exploration.\n",
    "\n",
    "This notebook is designed to act as a template and guidline in which certain elements can be minipulated to get the desired outcome. Here we demonstrate how you can use the Macrobond Data API for Python to locate a Time Series in the Macrobond's proprietary Tree Structure - used across various Macrobond's products. \n",
    "\n",
    "Time Series have been grouped and organized into a tree-structure by Macrobond. They feature thousands of primary sources from around the world.\n",
    "\n",
    "**National & International Databases**\n",
    "\n",
    "For these databases, we have reproduced the original source structure and classification in the application and web API. For the most part, these databases are from international sources that provide harmonized data across countries. However, we have chosen to reproduce the structure of certain primary sources, as well. You’ll find the datasets typically cover most, if not all, the data available from the source.\n",
    "\n",
    "When you wish to locate a Time Series within the Tree Structure, there are three database entry points in which the Time Series can be found:\n",
    "- Concept & Category\n",
    "- Country & Region\n",
    "- Source & Release\n",
    "\n",
    "Note that some Time Series can be found in all 3 entry points while others can be found in one or two of them only. A Time Series that carries a RegionKey will be present under Concept & Category for instance. \n",
    "\n",
    "**Country & Region**\n",
    "\n",
    "For each of the three main entry points, the structure is organized according to a different principle, for example Country and Region, which is what you wouldd use if want to look at a variety of data for a particular country.\n",
    "\n",
    "**Source & Release**\n",
    "\n",
    "For finding data from a specific source, choose the Source & Release view, especially if you are familiar with the way the source organizes its data.\n",
    "\n",
    "**Concept & Category**\n",
    "If you are looking for one indicator to compare across several countries, unemployment for example, the Concept & Category view is the place to go.\n",
    "\n",
    "You can find a full description of all methods and parameters used in the examples in the [documentation of the API](https://macrobond.github.io/macrobond-data-api/common/api.html).\n",
    "\n",
    "*Full error handling is omitted for brevity*"
   ]
  },
  {
   "cell_type": "markdown",
   "metadata": {},
   "source": [
    "***\n",
    "\n",
    "## Importing packages"
   ]
  },
  {
   "cell_type": "code",
   "execution_count": 1,
   "metadata": {},
   "outputs": [],
   "source": [
    "import macrobond_data_api as mda\n",
    "from macrobond_data_api.web import WebClient\n",
    "import pandas as pd"
   ]
  },
  {
   "attachments": {},
   "cell_type": "markdown",
   "metadata": {},
   "source": [
    "***\n",
    "\n",
    "## Locating a time series in the Macrobond's Tree Structure\n",
    "\n",
    "In the example below, we will use time series `arpric0432`: \n",
    "> **Argentina, Consumer Price Index, Total, Patagonia, Index**\n",
    "\n",
    "The endpoint used is find_locations in WebClient().open()"
   ]
  },
  {
   "cell_type": "code",
   "execution_count": 2,
   "metadata": {},
   "outputs": [],
   "source": [
    "with WebClient() as api:\n",
    "    tree_structure = api.session.series_tree.find_locations(\"arpric0432\")"
   ]
  },
  {
   "cell_type": "markdown",
   "metadata": {},
   "source": [
    "We are now visualising the various ways to locate the time series in the Macrobond's Tree Structure.\n",
    "Depending on the time series, it can be located in Country & Region and/or Source & Release and/or Concept & Category. The latter exists if and only if the time series used in our example carries a RegionKey (a.k.a. Concept in the Macrobond application).\n",
    "\n",
    "A RegionKey associates a series with a concept, such as gdp_total. These concepts are identified by Macrobond and are used to find comparable series representing equivalent concepts across regions/countries. Each concept is held only by one designated series per region/country.\n",
    "Feel free to refer to notebook 2.2 - Screening on a Concept for more information."
   ]
  },
  {
   "cell_type": "code",
   "execution_count": 3,
   "metadata": {},
   "outputs": [],
   "source": [
    "tree_structure_df = pd.json_normalize(tree_structure)\n",
    "tree_structure_df"
   ]
  },
  {
   "cell_type": "markdown",
   "metadata": {},
   "source": [
    "Finding the location(s) of time series can assist the workflow from research to production when users are finding time series in the Macrobond's application in an effort to document where these series could be found."
   ]
  },
  {
   "cell_type": "markdown",
   "metadata": {},
   "source": [
    "***\n",
    "\n",
    "## Downloading the time series from a node within the Macrobond's Tree Structure\n",
    "\n",
    "The endpoint used is SeriesTree/GetLeafSeries"
   ]
  },
  {
   "attachments": {},
   "cell_type": "markdown",
   "metadata": {},
   "source": [
    "When you find time series in a sepcific node of the Tree but cannot download all these time series due to the potential lack of RegionKey or search parameters through the source or a region, you can also download the time series included in this node.\n",
    "\n",
    "In the example below, we are using time series `arpric0403`\n",
    "\n",
    "> **Country & Region ? Argentina > Prices > Consumer Price Index > Regional > Argentina National Institute of Statistics & Censuses (INDEC) > Patagonia > All Items**\n"
   ]
  },
  {
   "cell_type": "markdown",
   "metadata": {},
   "source": [
    "You can enter the path to the leaf of the tree composed of the node descriptions encoded using RFC 2396 separated by a '/'"
   ]
  },
  {
   "cell_type": "markdown",
   "metadata": {},
   "source": [
    "Let's convert our path to the node, encoded using RFC 2396 separated by a '/'"
   ]
  },
  {
   "cell_type": "code",
   "execution_count": 4,
   "metadata": {},
   "outputs": [],
   "source": [
    "def treestring(tree, result=\"\"):\n",
    "    if \"child\" in tree.keys():\n",
    "        result = result + tree[\"title\"] + \"/\"\n",
    "        return treestring(tree[\"child\"], result)\n",
    "    else:\n",
    "        result = result + tree[\"title\"]\n",
    "        return result\n",
    "\n",
    "\n",
    "String = treestring(tree_structure[3])\n",
    "String"
   ]
  },
  {
   "cell_type": "code",
   "execution_count": 5,
   "metadata": {},
   "outputs": [],
   "source": [
    "with WebClient() as api:\n",
    "    tree_structure = api.session.series_tree.get_leaf_series(String)"
   ]
  },
  {
   "cell_type": "markdown",
   "metadata": {},
   "source": [
    "Here is below the standard response of GetLeafSeries:"
   ]
  },
  {
   "cell_type": "code",
   "execution_count": 6,
   "metadata": {},
   "outputs": [],
   "source": [
    "df2 = pd.json_normalize(tree_structure)\n",
    "pd.options.display.max_colwidth = 1000\n",
    "df2"
   ]
  },
  {
   "cell_type": "markdown",
   "metadata": {},
   "source": [
    "We can now flatten the series' names and title:"
   ]
  },
  {
   "cell_type": "code",
   "execution_count": 7,
   "metadata": {},
   "outputs": [],
   "source": [
    "df3 = pd.json_normalize(tree_structure[\"aspects\"], [\"groups\", [\"series\"]])\n",
    "pd.options.display.max_colwidth = 1000\n",
    "df3"
   ]
  },
  {
   "cell_type": "markdown",
   "metadata": {},
   "source": [
    "You can now retrieve the time series dates | value | metadata from the Names extracted above.\n",
    "Feel free to refer to notebook 1.3 - Macrobond web API - Fetching multiple Time Series (POST) for further examples.\n",
    "\n",
    "We are now storing the list of time series in a json file:"
   ]
  },
  {
   "cell_type": "code",
   "execution_count": 8,
   "metadata": {},
   "outputs": [],
   "source": [
    "df4 = pd.DataFrame(df3[\"properties.Name\"]).rename(columns={\"properties.Name\": \"Name\"}).apply(pd.Series.explode)\n",
    "df4"
   ]
  },
  {
   "cell_type": "code",
   "execution_count": 9,
   "metadata": {},
   "outputs": [],
   "source": [
    "universe = df4.to_json(orient=\"records\")\n",
    "universe"
   ]
  }
 ],
 "metadata": {
  "kernelspec": {
   "display_name": "Python 3",
   "language": "python",
   "name": "python3"
  },
  "language_info": {
   "codemirror_mode": {
    "name": "ipython",
    "version": 3
   },
   "file_extension": ".py",
   "mimetype": "text/x-python",
   "name": "python",
   "nbconvert_exporter": "python",
   "pygments_lexer": "ipython3",
   "version": "3.11.1"
  },
  "vscode": {
   "interpreter": {
    "hash": "4c65b52ed67bf21a68d91eaf7359cae5864732179fe6cfc221f72bfe728ed10c"
   }
  }
 },
 "nbformat": 4,
 "nbformat_minor": 2
}
