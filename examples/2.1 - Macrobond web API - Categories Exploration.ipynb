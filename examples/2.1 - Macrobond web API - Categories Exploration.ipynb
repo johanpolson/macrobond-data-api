{
 "cells": [
  {
   "cell_type": "markdown",
   "metadata": {},
   "source": [
    "# 2.1 - Macrobond web API - Categories Exploration\n",
    "\n",
    "*Performing coverage checks based on Macrobond's Categories*\n",
    "\n",
    "This notebook aims to provide examples of how to use Macrobond's web API call methods as well as insights on the key attributes used to display the output in an understandable format.\n",
    "\n",
    "We will focus here on using the Search method based on a **Category** input.\n",
    "Our data is arranged as a logical hierarchy of categories to help you find or narrow down related datasets quickly\n",
    "\n",
    "*The examples uses the Web API, but you can chose to use the desktop COM API and get the same result. Full error handling is omitted for brevity*"
   ]
  },
  {
   "cell_type": "markdown",
   "metadata": {},
   "source": [
    "***\n",
    "\n",
    "## Importing packages"
   ]
  },
  {
   "cell_type": "code",
   "execution_count": null,
   "metadata": {},
   "outputs": [],
   "source": [
    "from macrobond_data_api.web import WebClient"
   ]
  },
  {
   "cell_type": "markdown",
   "metadata": {},
   "source": [
    "***\n",
    "\n",
    "## Get the data\n",
    "Feel free to refer to https://api.macrobondfinancial.com/swagger/index.html to get the comprehensive list of web API endpoints and parameters used.\n",
    "\n",
    "In the example below, we are using here the Search endpoint with filters on Category `inea` and Region `gb`: \n",
    "> **Income & Earnings - United Kingdom**\n",
    "\n",
    "Feel free to use the notebook **1.1 - Macrobond web API - Metadata Navigation** to pull out a list of all available categories and regions."
   ]
  },
  {
   "cell_type": "code",
   "execution_count": null,
   "metadata": {},
   "outputs": [],
   "source": []
  },
  {
   "cell_type": "markdown",
   "metadata": {},
   "source": [
    "***\n",
    "\n",
    "## Visualising the data\n",
    "Let's evaluate Macrobond's coverage for Financial Accounts-related time series in the United Kingdom."
   ]
  },
  {
   "cell_type": "code",
   "execution_count": null,
   "metadata": {},
   "outputs": [],
   "source": [
    "with WebClient() as api:\n",
    "    data_frame = api.entity_search(\n",
    "        entity_types=\"TimeSeries\",\n",
    "        must_have_values={\"Region\": \"gb\", \"category\": \"inea\"},\n",
    "    ).to_pd_data_frame()[\n",
    "        [\n",
    "            \"Name\",\n",
    "            \"FullDescription\",\n",
    "            \"Region\",\n",
    "            \"Frequency\",\n",
    "            \"Source\",\n",
    "            \"FirstRevisionTimeStamp\",\n",
    "        ]\n",
    "    ]\n",
    "data_frame.head(10)"
   ]
  },
  {
   "cell_type": "markdown",
   "metadata": {},
   "source": [
    "### We will now focus on the Point-in-Time (PiT) series in this coverage check\n",
    "Let's isolate the first element of the Region attribute. While most of the time series carry one region only, some can have multiple regions with for instance \"gb\" and \"gb,city_[xxx]\"."
   ]
  },
  {
   "cell_type": "code",
   "execution_count": null,
   "metadata": {},
   "outputs": [],
   "source": [
    "data_frame[\"RegionString\"] = data_frame[\"Region\"].apply(lambda x: \", \".join(map(str, x)))\n",
    "data_frame.head(10)"
   ]
  },
  {
   "cell_type": "markdown",
   "metadata": {},
   "source": [
    "### Let's convert the date-time to years only"
   ]
  },
  {
   "cell_type": "code",
   "execution_count": null,
   "metadata": {},
   "outputs": [],
   "source": [
    "data_frame[\"FirstRevisionYear\"] = data_frame[\"FirstRevisionTimeStamp\"].str[:4]"
   ]
  },
  {
   "cell_type": "markdown",
   "metadata": {},
   "source": [
    "### Displaying the new DataFrame\n",
    "Let's see how our transformations have been applied by isolating on a few columns: `df.iloc[rows,[columns]]`. Note that we are also dropping NaN values in the FirstRevisionDate column: `df.dropna(subset=['FirstRevisionDate'])`"
   ]
  },
  {
   "cell_type": "code",
   "execution_count": null,
   "metadata": {
    "scrolled": true
   },
   "outputs": [],
   "source": [
    "data_frame_final = data_frame.dropna(subset=[\"FirstRevisionYear\"]).iloc[0:1000, [0, 1, 6, 3, 4, 7]]\n",
    "data_frame_final"
   ]
  },
  {
   "cell_type": "markdown",
   "metadata": {},
   "source": [
    "### Group the results by FirstRevisionYear and Frequency\n",
    "Note that Macrobond started to systematically collect PiT data in 2018. \n",
    "PiT coverage prior to 2018 has been backfilled by leveraging the source or internal collection logs."
   ]
  },
  {
   "cell_type": "code",
   "execution_count": null,
   "metadata": {},
   "outputs": [],
   "source": [
    "df_group = data_frame_final.groupby([\"FirstRevisionYear\", \"Frequency\"])[\"Name\"].count().reset_index(name=\"Count\")\n",
    "df_group"
   ]
  }
 ],
 "metadata": {
  "kernelspec": {
   "display_name": "Python 3",
   "language": "python",
   "name": "python3"
  },
  "language_info": {
   "codemirror_mode": {
    "name": "ipython",
    "version": 3
   },
   "file_extension": ".py",
   "mimetype": "text/x-python",
   "name": "python",
   "nbconvert_exporter": "python",
   "pygments_lexer": "ipython3",
   "version": "3.11.1 (tags/v3.11.1:a7a450f, Dec  6 2022, 19:58:39) [MSC v.1934 64 bit (AMD64)]"
  },
  "vscode": {
   "interpreter": {
    "hash": "306c8db229f0a89c06d03772a1eff5479204b8baa09cdbdfc80c0ee3ff96995d"
   }
  }
 },
 "nbformat": 4,
 "nbformat_minor": 2
}
