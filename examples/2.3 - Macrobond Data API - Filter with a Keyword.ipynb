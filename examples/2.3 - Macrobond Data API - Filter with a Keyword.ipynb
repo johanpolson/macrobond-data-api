{
 "cells": [
  {
   "attachments": {},
   "cell_type": "markdown",
   "metadata": {},
   "source": [
    "# 2.3 - Macrobond Data API for Python - Filter with a Keyword\n",
    "\n",
    "*Performing coverage checks based on a keyword*\n",
    "\n",
    "This notebook aims to provide examples of how to use Macrobond Data API for Python as well as insights on the key attributes used to display the output in an understandable format.\n",
    "\n",
    "We will focus here on using the Search method based on a **keyword** filter. This helps you build a list of time series potentially relating to a common theme.\n",
    "\n",
    "You can find a full description of all methods and parameters used in the examples in the [documentation of the API](https://macrobond.github.io/macrobond-data-api/common/api.html).\n",
    "\n",
    "*The examples uses the common functions of Macrobond API. Full error handling is omitted for brevity*"
   ]
  },
  {
   "cell_type": "markdown",
   "metadata": {},
   "source": [
    "***\n",
    "\n",
    "## Importing packages"
   ]
  },
  {
   "cell_type": "code",
   "execution_count": 1,
   "metadata": {},
   "outputs": [],
   "source": [
    "import macrobond_data_api as mda\n",
    "import matplotlib.pyplot as plt\n",
    "\n",
    "mbnd_colors = [\n",
    "    \"#1B365D\",\n",
    "    \"#4964A2\",\n",
    "    \"#256BA2\",\n",
    "    \"#8E51A8\",\n",
    "    \"#58A291\",\n",
    "    \"#CD545B\",\n",
    "    \"#004F59\",\n",
    "    \"#F68D2E\",\n",
    "    \"#008578\",\n",
    "    \"#934054\",\n",
    "    \"#25282A\",\n",
    "    \"#333F48\",\n",
    "    \"#676d72\",\n",
    "    \"#C7C9C7\",\n",
    "]"
   ]
  },
  {
   "attachments": {},
   "cell_type": "markdown",
   "metadata": {},
   "source": [
    "***\n",
    "\n",
    "## Get the data - Keyword: Government Securities Auctions\n",
    "\n",
    "Note that we are using here the Search endpoint with filters on keyword `text=Government Securities Auctions` and `Frequency=daily` time series in this example."
   ]
  },
  {
   "cell_type": "code",
   "execution_count": 2,
   "metadata": {},
   "outputs": [],
   "source": [
    "data_frame = mda.entity_search(\n",
    "    text=\"Government Securities Auctions\",\n",
    "    entity_types=\"TimeSeries\",\n",
    "    must_have_values={\"Frequency\": \"daily\"},\n",
    "    include_discontinued=False,\n",
    ").to_pd_data_frame()[\n",
    "    [\n",
    "        \"Name\",\n",
    "        \"FullDescription\",\n",
    "        \"Description\",\n",
    "        \"Region\",\n",
    "        \"Category\",\n",
    "        \"Frequency\",\n",
    "        \"Source\",\n",
    "        \"Class\",\n",
    "        \"PriceType\",\n",
    "    ]\n",
    "]"
   ]
  },
  {
   "cell_type": "code",
   "execution_count": 3,
   "metadata": {},
   "outputs": [],
   "source": [
    "data_frame"
   ]
  },
  {
   "attachments": {},
   "cell_type": "markdown",
   "metadata": {},
   "source": [
    "### Let's make sense of the attribute PriceType\n",
    "\n",
    "You can get more information about an attribute value from the database. This is explained in the notebook [1.1 - Metadata Navigation](./1.1%20-%20Macrobond%20Data%20API%20-%20Metadata%20Navigation.ipynb)."
   ]
  },
  {
   "cell_type": "code",
   "execution_count": 4,
   "metadata": {},
   "outputs": [],
   "source": [
    "mda.metadata_get_attribute_information(\"PriceType\")"
   ]
  },
  {
   "attachments": {},
   "cell_type": "markdown",
   "metadata": {},
   "source": [
    "As the PriceType uses values from list and can list values, let's have a look at its values to be used later as a group."
   ]
  },
  {
   "cell_type": "code",
   "execution_count": 5,
   "metadata": {},
   "outputs": [],
   "source": [
    "data_frame_PriceType = mda.metadata_list_values(\"PriceType\").to_pd_data_frame()[[\"value\", \"description\", \"comment\"]]\n",
    "data_frame_PriceType"
   ]
  },
  {
   "cell_type": "markdown",
   "metadata": {},
   "source": [
    "Now that we get a sense of potential groupings we can achieve thanks to the metadata, let's manipulate the ones that will be used."
   ]
  },
  {
   "cell_type": "code",
   "execution_count": 6,
   "metadata": {},
   "outputs": [],
   "source": [
    "data_frame[\"RegionString\"] = data_frame[\"Region\"].map(lambda x: x[0])\n",
    "\n",
    "\n",
    "data_frame[\"PriceTypeString\"] = data_frame[\"PriceType\"].map(lambda x: x if type(x) != list else x[0])\n",
    "\n",
    "# Mapping the PriceType to its descriptions\n",
    "mapping = dict(data_frame_PriceType[[\"value\", \"description\"]].values)\n",
    "data_frame[\"PriceTypeD\"] = data_frame[\"PriceTypeString\"].map(mapping)\n",
    "data_frame"
   ]
  },
  {
   "attachments": {},
   "cell_type": "markdown",
   "metadata": {},
   "source": [
    "#### Displaying the new DataFrame\n",
    "Let's see how our transformations have been applied by isolating on a few columns: `df.iloc[rows,[columns]]`."
   ]
  },
  {
   "cell_type": "code",
   "execution_count": 11,
   "metadata": {
    "scrolled": false
   },
   "outputs": [],
   "source": [
    "df_final = data_frame[[\"Name\", \"FullDescription\", \"RegionString\", \"PriceTypeString\", \"PriceTypeD\"]]\n",
    "df_final.head(10)"
   ]
  },
  {
   "cell_type": "markdown",
   "metadata": {},
   "source": [
    "### Group the results by PriceType"
   ]
  },
  {
   "cell_type": "code",
   "execution_count": 12,
   "metadata": {},
   "outputs": [],
   "source": [
    "df_group1 = df_final.groupby([\"PriceTypeD\"])[\"Name\"].count().reset_index(name=\"Count\")\n",
    "df_group1.sort_values(by=\"Count\", ascending=False)"
   ]
  },
  {
   "cell_type": "markdown",
   "metadata": {},
   "source": [
    "Let's isolate the top 10 results of our dataframe to keep the top price types."
   ]
  },
  {
   "cell_type": "code",
   "execution_count": 14,
   "metadata": {},
   "outputs": [],
   "source": [
    "df_group1_top = df_group1.nlargest(10, \"Count\")\n",
    "df_group1_top"
   ]
  },
  {
   "cell_type": "markdown",
   "metadata": {},
   "source": [
    "### Group the results by Region"
   ]
  },
  {
   "cell_type": "code",
   "execution_count": 16,
   "metadata": {},
   "outputs": [],
   "source": [
    "data_frame_region = mda.metadata_list_values(\"Region\").to_pd_data_frame()[[\"value\", \"description\"]]\n",
    "\n",
    "# Mapping the Region value to its description\n",
    "mapping = dict(data_frame_region[[\"value\", \"description\"]].values)\n",
    "df_final[\"RegionD\"] = data_frame.RegionString.map(mapping)\n",
    "\n",
    "# Applying the grouping\n",
    "df_group2 = df_final.groupby([\"RegionD\", \"PriceTypeD\"])[\"Name\"].count().reset_index(name=\"Count\")\n",
    "df_group2.sort_values(by=\"Count\", ascending=False)\n",
    "df_group2"
   ]
  },
  {
   "cell_type": "code",
   "execution_count": 17,
   "metadata": {},
   "outputs": [],
   "source": [
    "heatmap = df_group2.loc[\n",
    "    (df_group2[\"RegionD\"] == \"Poland\")\n",
    "    & (\n",
    "        (df_group2[\"PriceTypeD\"] == \"Yield\")\n",
    "        | (df_group2[\"PriceTypeD\"] == \"Offered\")\n",
    "        | (df_group2[\"PriceTypeD\"] == \"Price\")\n",
    "        | (df_group2[\"PriceTypeD\"] == \"Sales\")\n",
    "    )\n",
    "    | (df_group2[\"RegionD\"] == \"United States\")\n",
    "    & (\n",
    "        (df_group2[\"PriceTypeD\"] == \"Yield\")\n",
    "        | (df_group2[\"PriceTypeD\"] == \"Offered\")\n",
    "        | (df_group2[\"PriceTypeD\"] == \"Price\")\n",
    "        | (df_group2[\"PriceTypeD\"] == \"Sales\")\n",
    "    )\n",
    "    | (df_group2[\"RegionD\"] == \"Sweden\")\n",
    "    & (\n",
    "        (df_group2[\"PriceTypeD\"] == \"Yield\")\n",
    "        | (df_group2[\"PriceTypeD\"] == \"Offered\")\n",
    "        | (df_group2[\"PriceTypeD\"] == \"Price\")\n",
    "        | (df_group2[\"PriceTypeD\"] == \"Sales\")\n",
    "    )\n",
    "]\n",
    "heatmap"
   ]
  },
  {
   "cell_type": "markdown",
   "metadata": {},
   "source": [
    "### Plot the Government Securities Auctions Top by type and region"
   ]
  },
  {
   "cell_type": "code",
   "execution_count": 20,
   "metadata": {},
   "outputs": [],
   "source": [
    "plt.figure(figsize=(8, 5))\n",
    "\n",
    "colours = mbnd_colors\n",
    "plt.bar(df_group1_top[\"PriceTypeD\"], df_group1_top[\"Count\"], color=colours)\n",
    "plt.title(\"Pricing Type of Government Securities Auctions\", fontsize=14)\n",
    "plt.xlabel(\"PriceType\", fontsize=14)\n",
    "plt.ylabel(\"Count\", fontsize=14)\n",
    "plt.xticks(rotation=45)\n",
    "plt.grid(False)\n",
    "plt.autoscale()\n",
    "plt.show()"
   ]
  },
  {
   "cell_type": "markdown",
   "metadata": {},
   "source": [
    "Let's visualise the Price Type for Poland and Sweden only."
   ]
  },
  {
   "cell_type": "code",
   "execution_count": 21,
   "metadata": {},
   "outputs": [],
   "source": [
    "df_final_filtered = df_final.loc[(df_final[\"RegionD\"] == \"Poland\") | (df_final[\"RegionD\"] == \"Sweden\")]"
   ]
  },
  {
   "cell_type": "code",
   "execution_count": 23,
   "metadata": {},
   "outputs": [],
   "source": [
    "colours = mbnd_colors\n",
    "df_final_filtered.groupby([\"RegionD\", \"PriceTypeD\"]).size().unstack().plot(\n",
    "    kind=\"bar\", stacked=True, color=colours, figsize=(10, 5)\n",
    ")\n",
    "\n",
    "plt.legend(bbox_to_anchor=(1.05, 1), loc=2, borderaxespad=0.0, ncol=2)\n",
    "plt.show()"
   ]
  }
 ],
 "metadata": {
  "kernelspec": {
   "display_name": "Python 3",
   "language": "python",
   "name": "python3"
  },
  "language_info": {
   "codemirror_mode": {
    "name": "ipython",
    "version": 3
   },
   "file_extension": ".py",
   "mimetype": "text/x-python",
   "name": "python",
   "nbconvert_exporter": "python",
   "pygments_lexer": "ipython3",
   "version": "3.11.1"
  },
  "vscode": {
   "interpreter": {
    "hash": "4c65b52ed67bf21a68d91eaf7359cae5864732179fe6cfc221f72bfe728ed10c"
   }
  }
 },
 "nbformat": 4,
 "nbformat_minor": 2
}
