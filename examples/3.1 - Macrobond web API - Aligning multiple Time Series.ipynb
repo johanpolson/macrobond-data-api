{
 "cells": [
  {
   "cell_type": "markdown",
   "metadata": {},
   "source": [
    "# 3.1 - Macrobond web API - Aligning multiple Time Series\n",
    "\n",
    "*Using Macrobond's web API features to align various time series on a single calendar, frequency or currency and deal with missing values when observations do not all carry the same frequency.*\n",
    "\n",
    "This notebook aims to provide examples of how to use Macrobond's web API call methods as well as insights on the various methodologies used to align our time series for analysis.\n",
    "\n",
    "We will focus here on using the FetchUnifiedSeries POST call. This helps you doing the necessary pre-work before running your analysis or model.\n",
    "\n",
    "*Full error handling is omitted for brevity*"
   ]
  },
  {
   "cell_type": "markdown",
   "metadata": {},
   "source": [
    "***\n",
    "\n",
    "## Importing packages"
   ]
  },
  {
   "cell_type": "code",
   "execution_count": 2,
   "metadata": {},
   "outputs": [],
   "source": [
    "import statsmodels.api as statsmodels_api\n",
    "from sklearn import linear_model\n",
    "\n",
    "from macrobond_financial.common import Credentials\n",
    "from macrobond_financial.common.enums import SeriesFrequency\n",
    "from macrobond_financial.common.types import StartOrEndPoint\n",
    "from macrobond_financial.web import WebClient"
   ]
  },
  {
   "cell_type": "markdown",
   "metadata": {},
   "source": [
    "***\n",
    "\n",
    "## Authentication\n",
    "\n",
    "If you have a Macrobond's web API account, enter your *client_id* and *client_secret* below."
   ]
  },
  {
   "cell_type": "code",
   "execution_count": 3,
   "metadata": {},
   "outputs": [],
   "source": [
    "credentials = Credentials()"
   ]
  },
  {
   "cell_type": "markdown",
   "metadata": {},
   "source": [
    "***\n",
    "\n",
    "## Get the data - fetchunifiedseries\n",
    "\n",
    "Note that we are using here the below time series in this example:\n",
    "* cyinea0001 - Cyprus, Earnings, Wage Growth, Nominal\n",
    "* cypric0014 - Cyprus, Consumer Price Index, Miscellaneous Goods & Services, Index\n",
    "* cytour0076 - Cyprus, Income, Revenue, Total, EUR\n",
    "* un_myos_cy_total - Cyprus, Human Development, Education, Mean Years of Schooling\n",
    "\n",
    "Feel free to refer to https://api.macrobondfinancial.com/swagger/index.html to get the comprehensive list of web API endpoints and parameters used.\n",
    "\n",
    "We want to look at data from Cyprus and conduct multiple regression analysis further down the notebook. Our dataset has the following features:\n",
    "\n",
    "•\tOur dependant variable will be nominal wage growth, which has an inception date of 1960 and is collected from the Cyprus Statistical Service (CYSTAT), the frequency is annual.\n",
    "\n",
    "•\tOur first independent variable will be Consumer Price Index for Miscellaneous Goods & Services which has an inception date of 2000 and is also collected from CYSTAT, and the frequency is monthly.\n",
    "\n",
    "•\tOur second independent variable is Income, total Revenue from foreign tourism (EUR) which has an inception date of 2001 and collected from CYSTAT, it has a monthly frequency.\n",
    "\n",
    "•\tOur final independent variable is Education, Mean Years of Schooling which is collected from United Nations Development Programme (UNDP) and has an inception date of 1990, the frequency is annual.\n",
    "Immediately we can see that the current data set have different time scales, frequencies and currencies. So, in order for us to make the data comparable, we will utilise the 'Fetchallunifiedseries' endpoint which utilises a post request, which takes the following form below, let's see what each of these mean and how it can manipulate our data."
   ]
  },
  {
   "cell_type": "code",
   "execution_count": null,
   "metadata": {},
   "outputs": [],
   "source": []
  },
  {
   "cell_type": "markdown",
   "metadata": {},
   "source": [
    "***\n",
    "\n",
    "## Visualising the data\n",
    "We have flattened the columns we want to portray in our chart (dates and values) to prepare our data to be graphed further down the notebook"
   ]
  },
  {
   "cell_type": "code",
   "execution_count": 4,
   "metadata": {},
   "outputs": [
    {
     "data": {
      "text/html": [
       "<div>\n",
       "<style scoped>\n",
       "    .dataframe tbody tr th:only-of-type {\n",
       "        vertical-align: middle;\n",
       "    }\n",
       "\n",
       "    .dataframe tbody tr th {\n",
       "        vertical-align: top;\n",
       "    }\n",
       "\n",
       "    .dataframe thead th {\n",
       "        text-align: right;\n",
       "    }\n",
       "</style>\n",
       "<table border=\"1\" class=\"dataframe\">\n",
       "  <thead>\n",
       "    <tr style=\"text-align: right;\">\n",
       "      <th></th>\n",
       "      <th>Dates</th>\n",
       "      <th>Series</th>\n",
       "    </tr>\n",
       "  </thead>\n",
       "  <tbody>\n",
       "    <tr>\n",
       "      <th>0</th>\n",
       "      <td>(2001-01-01 00:00:00+00:00, 2002-01-01 00:00:0...</td>\n",
       "      <td>({'Name': 'cyinea0001', 'Values': (5.1, 5.6, 6...</td>\n",
       "    </tr>\n",
       "  </tbody>\n",
       "</table>\n",
       "</div>"
      ],
      "text/plain": [
       "                                               Dates  \\\n",
       "0  (2001-01-01 00:00:00+00:00, 2002-01-01 00:00:0...   \n",
       "\n",
       "                                              Series  \n",
       "0  ({'Name': 'cyinea0001', 'Values': (5.1, 5.6, 6...  "
      ]
     },
     "execution_count": 4,
     "metadata": {},
     "output_type": "execute_result"
    }
   ],
   "source": [
    "with WebClient(credentials.client_id, credentials.client_secret) as api:\n",
    "    data_frame = api.get_unified_series(\n",
    "        \"cyinea0001\",\n",
    "        \"cypric0014\",\n",
    "        \"cytour0076\",\n",
    "        \"un_myos_cy_total\",\n",
    "        frequency=SeriesFrequency.ANNUAL,\n",
    "        currency=\"USD\",\n",
    "        start_point=StartOrEndPoint.data_in_all_series(),\n",
    "        end_point=StartOrEndPoint.data_in_all_series(),\n",
    "    ).data_frame(\n",
    "        [\n",
    "            \"dates\",\n",
    "            \"Wage Growth\",\n",
    "            \"CPI\",\n",
    "            \"Income from Foreign Tourism\",\n",
    "            \"Mean Years of Schooling\",\n",
    "        ]\n",
    "    )\n",
    "data_frame"
   ]
  },
  {
   "cell_type": "markdown",
   "metadata": {},
   "source": [
    "***\n",
    "\n",
    "## Multiple Regression Analysis\n",
    "\n",
    "Now that we have all the variables visually, we will use the package sklearn and from there use the linear_model package to make our model. Let us first start by defining our variables."
   ]
  },
  {
   "cell_type": "code",
   "execution_count": 5,
   "metadata": {},
   "outputs": [
    {
     "ename": "KeyError",
     "evalue": "\"None of [Index(['CPI', 'Income from Foreign Tourism', 'Mean Years of Schooling'], dtype='object')] are in the [columns]\"",
     "output_type": "error",
     "traceback": [
      "\u001b[1;31m---------------------------------------------------------------------------\u001b[0m",
      "\u001b[1;31mKeyError\u001b[0m                                  Traceback (most recent call last)",
      "\u001b[1;32mc:\\dev\\proj\\github\\data-api-python\\examples\\3.1 - Macrobond web API - Aligning multiple Time Series.ipynb Cell 11'\u001b[0m in \u001b[0;36m<cell line: 1>\u001b[1;34m()\u001b[0m\n\u001b[1;32m----> <a href='vscode-notebook-cell:/c%3A/dev/proj/github/data-api-python/examples/3.1%20-%20Macrobond%20web%20API%20-%20Aligning%20multiple%20Time%20Series.ipynb#ch0000011?line=0'>1</a>\u001b[0m x \u001b[39m=\u001b[39m data_frame[[\u001b[39m\"\u001b[39;49m\u001b[39mCPI\u001b[39;49m\u001b[39m\"\u001b[39;49m, \u001b[39m\"\u001b[39;49m\u001b[39mIncome from Foreign Tourism\u001b[39;49m\u001b[39m\"\u001b[39;49m, \u001b[39m\"\u001b[39;49m\u001b[39mMean Years of Schooling\u001b[39;49m\u001b[39m\"\u001b[39;49m]]\n\u001b[0;32m      <a href='vscode-notebook-cell:/c%3A/dev/proj/github/data-api-python/examples/3.1%20-%20Macrobond%20web%20API%20-%20Aligning%20multiple%20Time%20Series.ipynb#ch0000011?line=1'>2</a>\u001b[0m y \u001b[39m=\u001b[39m data_frame[\u001b[39m\"\u001b[39m\u001b[39mWage Growth\u001b[39m\u001b[39m\"\u001b[39m]\n\u001b[0;32m      <a href='vscode-notebook-cell:/c%3A/dev/proj/github/data-api-python/examples/3.1%20-%20Macrobond%20web%20API%20-%20Aligning%20multiple%20Time%20Series.ipynb#ch0000011?line=3'>4</a>\u001b[0m regr \u001b[39m=\u001b[39m linear_model\u001b[39m.\u001b[39mLinearRegression()\n",
      "File \u001b[1;32mc:\\Users\\thoma\\AppData\\Local\\Programs\\Python\\Python310\\lib\\site-packages\\pandas\\core\\frame.py:3511\u001b[0m, in \u001b[0;36mDataFrame.__getitem__\u001b[1;34m(self, key)\u001b[0m\n\u001b[0;32m   <a href='file:///c%3A/Users/thoma/AppData/Local/Programs/Python/Python310/lib/site-packages/pandas/core/frame.py?line=3508'>3509</a>\u001b[0m     \u001b[39mif\u001b[39;00m is_iterator(key):\n\u001b[0;32m   <a href='file:///c%3A/Users/thoma/AppData/Local/Programs/Python/Python310/lib/site-packages/pandas/core/frame.py?line=3509'>3510</a>\u001b[0m         key \u001b[39m=\u001b[39m \u001b[39mlist\u001b[39m(key)\n\u001b[1;32m-> <a href='file:///c%3A/Users/thoma/AppData/Local/Programs/Python/Python310/lib/site-packages/pandas/core/frame.py?line=3510'>3511</a>\u001b[0m     indexer \u001b[39m=\u001b[39m \u001b[39mself\u001b[39;49m\u001b[39m.\u001b[39;49mcolumns\u001b[39m.\u001b[39;49m_get_indexer_strict(key, \u001b[39m\"\u001b[39;49m\u001b[39mcolumns\u001b[39;49m\u001b[39m\"\u001b[39;49m)[\u001b[39m1\u001b[39m]\n\u001b[0;32m   <a href='file:///c%3A/Users/thoma/AppData/Local/Programs/Python/Python310/lib/site-packages/pandas/core/frame.py?line=3512'>3513</a>\u001b[0m \u001b[39m# take() does not accept boolean indexers\u001b[39;00m\n\u001b[0;32m   <a href='file:///c%3A/Users/thoma/AppData/Local/Programs/Python/Python310/lib/site-packages/pandas/core/frame.py?line=3513'>3514</a>\u001b[0m \u001b[39mif\u001b[39;00m \u001b[39mgetattr\u001b[39m(indexer, \u001b[39m\"\u001b[39m\u001b[39mdtype\u001b[39m\u001b[39m\"\u001b[39m, \u001b[39mNone\u001b[39;00m) \u001b[39m==\u001b[39m \u001b[39mbool\u001b[39m:\n",
      "File \u001b[1;32mc:\\Users\\thoma\\AppData\\Local\\Programs\\Python\\Python310\\lib\\site-packages\\pandas\\core\\indexes\\base.py:5782\u001b[0m, in \u001b[0;36mIndex._get_indexer_strict\u001b[1;34m(self, key, axis_name)\u001b[0m\n\u001b[0;32m   <a href='file:///c%3A/Users/thoma/AppData/Local/Programs/Python/Python310/lib/site-packages/pandas/core/indexes/base.py?line=5778'>5779</a>\u001b[0m \u001b[39melse\u001b[39;00m:\n\u001b[0;32m   <a href='file:///c%3A/Users/thoma/AppData/Local/Programs/Python/Python310/lib/site-packages/pandas/core/indexes/base.py?line=5779'>5780</a>\u001b[0m     keyarr, indexer, new_indexer \u001b[39m=\u001b[39m \u001b[39mself\u001b[39m\u001b[39m.\u001b[39m_reindex_non_unique(keyarr)\n\u001b[1;32m-> <a href='file:///c%3A/Users/thoma/AppData/Local/Programs/Python/Python310/lib/site-packages/pandas/core/indexes/base.py?line=5781'>5782</a>\u001b[0m \u001b[39mself\u001b[39;49m\u001b[39m.\u001b[39;49m_raise_if_missing(keyarr, indexer, axis_name)\n\u001b[0;32m   <a href='file:///c%3A/Users/thoma/AppData/Local/Programs/Python/Python310/lib/site-packages/pandas/core/indexes/base.py?line=5783'>5784</a>\u001b[0m keyarr \u001b[39m=\u001b[39m \u001b[39mself\u001b[39m\u001b[39m.\u001b[39mtake(indexer)\n\u001b[0;32m   <a href='file:///c%3A/Users/thoma/AppData/Local/Programs/Python/Python310/lib/site-packages/pandas/core/indexes/base.py?line=5784'>5785</a>\u001b[0m \u001b[39mif\u001b[39;00m \u001b[39misinstance\u001b[39m(key, Index):\n\u001b[0;32m   <a href='file:///c%3A/Users/thoma/AppData/Local/Programs/Python/Python310/lib/site-packages/pandas/core/indexes/base.py?line=5785'>5786</a>\u001b[0m     \u001b[39m# GH 42790 - Preserve name from an Index\u001b[39;00m\n",
      "File \u001b[1;32mc:\\Users\\thoma\\AppData\\Local\\Programs\\Python\\Python310\\lib\\site-packages\\pandas\\core\\indexes\\base.py:5842\u001b[0m, in \u001b[0;36mIndex._raise_if_missing\u001b[1;34m(self, key, indexer, axis_name)\u001b[0m\n\u001b[0;32m   <a href='file:///c%3A/Users/thoma/AppData/Local/Programs/Python/Python310/lib/site-packages/pandas/core/indexes/base.py?line=5839'>5840</a>\u001b[0m     \u001b[39mif\u001b[39;00m use_interval_msg:\n\u001b[0;32m   <a href='file:///c%3A/Users/thoma/AppData/Local/Programs/Python/Python310/lib/site-packages/pandas/core/indexes/base.py?line=5840'>5841</a>\u001b[0m         key \u001b[39m=\u001b[39m \u001b[39mlist\u001b[39m(key)\n\u001b[1;32m-> <a href='file:///c%3A/Users/thoma/AppData/Local/Programs/Python/Python310/lib/site-packages/pandas/core/indexes/base.py?line=5841'>5842</a>\u001b[0m     \u001b[39mraise\u001b[39;00m \u001b[39mKeyError\u001b[39;00m(\u001b[39mf\u001b[39m\u001b[39m\"\u001b[39m\u001b[39mNone of [\u001b[39m\u001b[39m{\u001b[39;00mkey\u001b[39m}\u001b[39;00m\u001b[39m] are in the [\u001b[39m\u001b[39m{\u001b[39;00maxis_name\u001b[39m}\u001b[39;00m\u001b[39m]\u001b[39m\u001b[39m\"\u001b[39m)\n\u001b[0;32m   <a href='file:///c%3A/Users/thoma/AppData/Local/Programs/Python/Python310/lib/site-packages/pandas/core/indexes/base.py?line=5843'>5844</a>\u001b[0m not_found \u001b[39m=\u001b[39m \u001b[39mlist\u001b[39m(ensure_index(key)[missing_mask\u001b[39m.\u001b[39mnonzero()[\u001b[39m0\u001b[39m]]\u001b[39m.\u001b[39munique())\n\u001b[0;32m   <a href='file:///c%3A/Users/thoma/AppData/Local/Programs/Python/Python310/lib/site-packages/pandas/core/indexes/base.py?line=5844'>5845</a>\u001b[0m \u001b[39mraise\u001b[39;00m \u001b[39mKeyError\u001b[39;00m(\u001b[39mf\u001b[39m\u001b[39m\"\u001b[39m\u001b[39m{\u001b[39;00mnot_found\u001b[39m}\u001b[39;00m\u001b[39m not in index\u001b[39m\u001b[39m\"\u001b[39m)\n",
      "\u001b[1;31mKeyError\u001b[0m: \"None of [Index(['CPI', 'Income from Foreign Tourism', 'Mean Years of Schooling'], dtype='object')] are in the [columns]\""
     ]
    }
   ],
   "source": [
    "x = data_frame[[\"CPI\", \"Income from Foreign Tourism\", \"Mean Years of Schooling\"]]\n",
    "y = data_frame[\"Wage Growth\"]\n",
    "\n",
    "regr = linear_model.LinearRegression()\n",
    "regr.fit(x, y)\n",
    "\n",
    "x = statsmodels_api.add_constant(x)\n",
    "Summary = statsmodels_api.OLS(y, x).fit()\n",
    "Summary.summary()"
   ]
  },
  {
   "cell_type": "code",
   "execution_count": 5,
   "metadata": {},
   "outputs": [
    {
     "name": "stdout",
     "output_type": "stream",
     "text": [
      "Cyprus Wage Growth Forecast\n",
      "[0.3738423]\n"
     ]
    }
   ],
   "source": [
    "CYP_Wage_Growth = regr.predict([[100.010000, 2.994805e09, 12.1712]])\n",
    "print(\"Cyprus Wage Growth Forecast\")\n",
    "print(CYP_Wage_Growth)"
   ]
  },
  {
   "cell_type": "markdown",
   "metadata": {},
   "source": [
    "***\n",
    "\n",
    "## Conclusion\n",
    "\n",
    "Here we can see how the FetchUnifiedSeries endpoint which utilises a POST request really eases workflows by simply querying the data needed in the model, applying the transformations and visualising the results, rather than doing a one-off mathematical transformation from scratch. Not only this feature saves a lot of time in the preparatory and necessary work but it also increases consistency across the various time series and models running off the back of the Macrobond data.  "
   ]
  }
 ],
 "metadata": {
  "interpreter": {
   "hash": "2881cb102472c0a2cc7b98c9f5b468e81049b20ea6d80c54eb33ba6f13a3277c"
  },
  "kernelspec": {
   "display_name": "Python 3.10.4 64-bit",
   "language": "python",
   "name": "python3"
  },
  "language_info": {
   "codemirror_mode": {
    "name": "ipython",
    "version": 3
   },
   "file_extension": ".py",
   "mimetype": "text/x-python",
   "name": "python",
   "nbconvert_exporter": "python",
   "pygments_lexer": "ipython3",
   "version": "3.10.4"
  }
 },
 "nbformat": 4,
 "nbformat_minor": 2
}
