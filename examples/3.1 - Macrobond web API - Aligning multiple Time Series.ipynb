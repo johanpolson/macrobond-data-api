{
 "cells": [
  {
   "cell_type": "markdown",
   "metadata": {},
   "source": [
    "# 3.1 - Macrobond web API - Aligning multiple Time Series\n",
    "\n",
    "*Using Macrobond's web API features to align various time series on a single calendar, frequency or currency and deal with missing values when observations do not all carry the same frequency.*\n",
    "\n",
    "This notebook aims to provide examples of how to use Macrobond's web API call methods as well as insights on the various methodologies used to align our time series for analysis.\n",
    "\n",
    "We will focus here on using the FetchUnifiedSeries POST call. This helps you doing the necessary pre-work before running your analysis or model.\n",
    "\n",
    "*The examples uses the Web API, but you can chose to use the desktop COM API and get the same result. Full error handling is omitted for brevity*"
   ]
  },
  {
   "cell_type": "markdown",
   "metadata": {},
   "source": [
    "***\n",
    "\n",
    "## Importing packages"
   ]
  },
  {
   "cell_type": "code",
   "execution_count": 4,
   "metadata": {},
   "outputs": [],
   "source": [
    "import statsmodels.api as statsmodels_api\n",
    "from sklearn import linear_model\n",
    "\n",
    "from macrobond_financial.web import WebClient\n",
    "from macrobond_financial.common.types import StartOrEndPoint\n",
    "from macrobond_financial.common.enums import SeriesFrequency"
   ]
  },
  {
   "cell_type": "markdown",
   "metadata": {},
   "source": [
    "***\n",
    "\n",
    "## Get the data - fetchunifiedseries\n",
    "\n",
    "Note that we are using here the below time series in this example:\n",
    "* cyinea0001 - Cyprus, Earnings, Wage Growth, Nominal\n",
    "* cypric0014 - Cyprus, Consumer Price Index, Miscellaneous Goods & Services, Index\n",
    "* cytour0076 - Cyprus, Income, Revenue, Total, EUR\n",
    "* un_myos_cy_total - Cyprus, Human Development, Education, Mean Years of Schooling\n",
    "\n",
    "Feel free to refer to https://api.macrobondfinancial.com/swagger/index.html to get the comprehensive list of web API endpoints and parameters used.\n",
    "\n",
    "We want to look at data from Cyprus and conduct multiple regression analysis further down the notebook. Our dataset has the following features:\n",
    "\n",
    "•\tOur dependant variable will be nominal wage growth, which has an inception date of 1960 and is collected from the Cyprus Statistical Service (CYSTAT), the frequency is annual.\n",
    "\n",
    "•\tOur first independent variable will be Consumer Price Index for Miscellaneous Goods & Services which has an inception date of 2000 and is also collected from CYSTAT, and the frequency is monthly.\n",
    "\n",
    "•\tOur second independent variable is Income, total Revenue from foreign tourism (EUR) which has an inception date of 2001 and collected from CYSTAT, it has a monthly frequency.\n",
    "\n",
    "•\tOur final independent variable is Education, Mean Years of Schooling which is collected from United Nations Development Programme (UNDP) and has an inception date of 1990, the frequency is annual.\n",
    "Immediately we can see that the current data set have different time scales, frequencies and currencies. So, in order for us to make the data comparable, we will utilise the 'Fetchallunifiedseries' endpoint which utilises a post request, which takes the following form below, let's see what each of these mean and how it can manipulate our data."
   ]
  },
  {
   "cell_type": "code",
   "execution_count": null,
   "metadata": {},
   "outputs": [],
   "source": []
  },
  {
   "cell_type": "markdown",
   "metadata": {},
   "source": [
    "***\n",
    "\n",
    "## Visualising the data\n",
    "We have flattened the columns we want to portray in our chart (dates and values) to prepare our data to be graphed further down the notebook"
   ]
  },
  {
   "cell_type": "code",
   "execution_count": null,
   "metadata": {},
   "outputs": [],
   "source": [
    "with WebClient() as api:\n",
    "    data_frame = api.get_unified_series(\n",
    "        \"cyinea0001\",\n",
    "        \"cypric0014\",\n",
    "        \"cytour0076\",\n",
    "        \"un_myos_cy_total\",\n",
    "        frequency=SeriesFrequency.ANNUAL,\n",
    "        currency=\"USD\",\n",
    "        start_point=StartOrEndPoint.data_in_all_series(),\n",
    "        end_point=StartOrEndPoint.data_in_all_series(),\n",
    "    ).to_pd_data_frame()\n",
    "data_frame.columns = [\n",
    "    \"Wage Growth\",\n",
    "    \"CPI\",\n",
    "    \"Income from Foreign Tourism\",\n",
    "    \"Mean Years of Schooling\"\n",
    "]\n",
    "data_frame"
   ]
  },
  {
   "cell_type": "markdown",
   "metadata": {},
   "source": [
    "***\n",
    "\n",
    "## Multiple Regression Analysis\n",
    "\n",
    "Now that we have all the variables visually, we will use the package sklearn and from there use the linear_model package to make our model. Let us first start by defining our variables."
   ]
  },
  {
   "cell_type": "code",
   "execution_count": null,
   "metadata": {},
   "outputs": [],
   "source": [
    "x = data_frame[[\"CPI\", \"Income from Foreign Tourism\", \"Mean Years of Schooling\"]]\n",
    "y = data_frame[\"Wage Growth\"]\n",
    "\n",
    "regr = linear_model.LinearRegression()\n",
    "regr.fit(x, y)\n",
    "\n",
    "x = statsmodels_api.add_constant(x)\n",
    "Summary = statsmodels_api.OLS(y, x).fit()\n",
    "Summary.summary()"
   ]
  },
  {
   "cell_type": "code",
   "execution_count": null,
   "metadata": {},
   "outputs": [],
   "source": [
    "CYP_Wage_Growth = regr.predict([[100.010000, 2.994805e09, 12.1712]])\n",
    "print(\"Cyprus Wage Growth Forecast\")\n",
    "print(CYP_Wage_Growth)"
   ]
  },
  {
   "cell_type": "markdown",
   "metadata": {},
   "source": [
    "***\n",
    "\n",
    "## Conclusion\n",
    "\n",
    "Here we can see how the FetchUnifiedSeries endpoint which utilises a POST request really eases workflows by simply querying the data needed in the model, applying the transformations and visualising the results, rather than doing a one-off mathematical transformation from scratch. Not only this feature saves a lot of time in the preparatory and necessary work but it also increases consistency across the various time series and models running off the back of the Macrobond data.  "
   ]
  }
 ],
 "metadata": {
  "interpreter": {
   "hash": "2881cb102472c0a2cc7b98c9f5b468e81049b20ea6d80c54eb33ba6f13a3277c"
  },
  "kernelspec": {
   "display_name": "Python 3.10.4 64-bit",
   "language": "python",
   "name": "python3"
  },
  "language_info": {
   "codemirror_mode": {
    "name": "ipython",
    "version": 3
   },
   "file_extension": ".py",
   "mimetype": "text/x-python",
   "name": "python",
   "nbconvert_exporter": "python",
   "pygments_lexer": "ipython3",
   "version": "3.10.4"
  },
  "vscode": {
   "interpreter": {
    "hash": "1f07703081b087c011f489eea73b431cab9a444b9d10d39f2f152d47c6ed00d0"
   }
  }
 },
 "nbformat": 4,
 "nbformat_minor": 2
}
