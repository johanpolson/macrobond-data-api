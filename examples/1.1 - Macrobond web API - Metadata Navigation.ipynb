{
 "cells": [
  {
   "cell_type": "markdown",
   "metadata": {},
   "source": [
    "# 1.1 - Macrobond Data API - Metadata Navigation\n",
    "\n",
    "*Understanding Macrobond's metadata attributes*\n",
    "\n",
    "This notebook is designed to act as a template and guidline in which certain elements can be minipulated to get the desired outcome. Here we demonstrates how the Metadata methods works in the Data API when you want to get more information for a particular time series and understand the various attributes you can use to refine your analysis. \n",
    "\n",
    "Macrobond's data contains three objects:\n",
    "* dates \n",
    "* values \n",
    "* metadata\n",
    "\n",
    "We will focus here on understanding the metadata. \n",
    "\n",
    "*The examples uses the Web API, but you can chose to use the desktop COM API and get the same result. Full error handling is omitted for brevity*"
   ]
  },
  {
   "cell_type": "markdown",
   "metadata": {},
   "source": [
    "***\n",
    "\n",
    "## Importing packages"
   ]
  },
  {
   "cell_type": "code",
   "execution_count": 15,
   "metadata": {},
   "outputs": [],
   "source": [
    "from macrobond_financial.web import WebClient"
   ]
  },
  {
   "cell_type": "markdown",
   "metadata": {},
   "source": [
    "***\n",
    "\n",
    "## Get the data\n",
    "Our typical workflow starts with the information we find from a time series' metadata. From there, we will seek further information on these attributes. But, it is absolutely possible to skip this step and go to section **Understanding the format of an attribute** directly.\n",
    "Let's now request a time series to have a look at its metadata.\n",
    "Feel free to refer to {TODO: provide link} to get the comprehensive list of API methods and parameters used.\n",
    "\n",
    "In the example below, we will use time series `ustrad2120` and print the title: \n",
    "> **United States, Foreign Trade, Energy Information Administration, Crude Oil & Petroleum Products, Export, Petroleum Products, Propane & Propylene**"
   ]
  },
  {
   "cell_type": "code",
   "execution_count": 16,
   "metadata": {},
   "outputs": [
    {
     "data": {
      "text/plain": [
       "'United States, Foreign Trade, Energy Information Administration, Crude Oil & Petroleum Products, Export, Petroleum Products, Propane & Propylene'"
      ]
     },
     "execution_count": 16,
     "metadata": {},
     "output_type": "execute_result"
    }
   ],
   "source": [
    "with WebClient() as api:\n",
    "    title = api.get_one_entity(\"ustrad2120\").title\n",
    "title"
   ]
  },
  {
   "cell_type": "markdown",
   "metadata": {},
   "source": [
    "***\n",
    "\n",
    "## Visualising the metadata\n",
    "Let's visualise the metadata in a Pandas dataframe. \n",
    "You will see below the full list of metadata attributes available for our time series. \n",
    "Feel free to visit this page for more information on these fields: https://help.macrobond.com/technical-information/common-metadata/"
   ]
  },
  {
   "cell_type": "code",
   "execution_count": null,
   "metadata": {},
   "outputs": [],
   "source": [
    "with WebClient() as api:\n",
    "    data_frame = api.get_one_entity(\"ustrad2120\").metadata_to_pd_series()\n",
    "data_frame"
   ]
  },
  {
   "cell_type": "markdown",
   "metadata": {},
   "source": [
    "Let's now focus on a few metadata attributes."
   ]
  },
  {
   "cell_type": "markdown",
   "metadata": {},
   "source": [
    "### Understanding the format of an attribute\n",
    "In order to code efficiently, it is important to understand the format and the features of the attribute we are looking at. You can query the API for information about the attribute using the **metadata_get_attribute_information** method. For instance, to get information about the `Category` attribute we can make a call like thio:"
   ]
  },
  {
   "cell_type": "code",
   "execution_count": null,
   "metadata": {},
   "outputs": [],
   "source": [
    "with WebClient() as api:\n",
    "    data_frame = api.metadata_get_attribute_information(\"Category\")[0].to_pd_data_frame()\n",
    "data_frame"
   ]
  },
  {
   "cell_type": "markdown",
   "metadata": {},
   "source": [
    "### Controlling for the values a specific attribute can get\n",
    "From the response, we learn that this value has a list of possible values since the `usesValueList` is `True`. In the metadata for the entity above, we learned that for `ustrad2120` we have `Category = trad`. \n",
    "Let's see what other values this attribute can have.\n",
    "We will now use the method **metadata_list_values**:"
   ]
  },
  {
   "cell_type": "code",
   "execution_count": null,
   "metadata": {},
   "outputs": [],
   "source": [
    "with WebClient() as api:\n",
    "    data_frame = api.metadata_list_values(\"Category\").to_pd_data_frame()\n",
    "data_frame"
   ]
  },
  {
   "cell_type": "markdown",
   "metadata": {},
   "source": [
    "Understanding the values an attribute can get is particularly important when using the web API as a Search method to pull back a list of time series that meet the defined criteria. You can refer to the notebook **2.1 - Macrobond web API [...]** for further examples."
   ]
  },
  {
   "cell_type": "markdown",
   "metadata": {},
   "source": [
    "### Understanding further a specific attribute\n",
    "Another attribute we found in the response is: `Source = src_useia`. Let's see what source it is precisely by using the **metadata_get_value_information** method.\n",
    "We can now request further information on the source above by specifying the metadata attribute followed by a comma and then the value:"
   ]
  },
  {
   "cell_type": "code",
   "execution_count": null,
   "metadata": {},
   "outputs": [],
   "source": [
    "with WebClient() as api:\n",
    "    data_frame = api.metadata_get_value_information((\"Source\", \"src_useia\"))[0].to_pd_data_frame()\n",
    "data_frame  "
   ]
  },
  {
   "cell_type": "markdown",
   "metadata": {},
   "source": [
    "***\n",
    "\n",
    "# Wrap-up\n",
    "We have learnt in this notebook how to retrieve information on the metadata attributes, starting with a time series' response. The metadata becomes critical in a couple of scenarios such as:\n",
    "* Searching through the database a list of time series that meet pre-defined criteria\n",
    "* Refining a script based on a few attributes\n",
    "* Coding efficiently and understanding the output\n",
    "* Improving a backtest by leveraging the point-in-time attributes\n",
    "* And many more\n",
    "\n",
    "All of these can be achieved thanks to the three metadata endpoints:\n",
    "1. **metadata_get_attribute_information**\n",
    "2. **metadata_get_value_information**\n",
    "3. **metadata_list_values**"
   ]
  }
 ],
 "metadata": {
  "interpreter": {
   "hash": "2881cb102472c0a2cc7b98c9f5b468e81049b20ea6d80c54eb33ba6f13a3277c"
  },
  "kernelspec": {
   "display_name": "Python 3.10.4 64-bit",
   "language": "python",
   "name": "python3"
  },
  "language_info": {
   "codemirror_mode": {
    "name": "ipython",
    "version": 3
   },
   "file_extension": ".py",
   "mimetype": "text/x-python",
   "name": "python",
   "nbconvert_exporter": "python",
   "pygments_lexer": "ipython3",
   "version": "3.10.4"
  },
  "vscode": {
   "interpreter": {
    "hash": "1f07703081b087c011f489eea73b431cab9a444b9d10d39f2f152d47c6ed00d0"
   }
  }
 },
 "nbformat": 4,
 "nbformat_minor": 2
}
