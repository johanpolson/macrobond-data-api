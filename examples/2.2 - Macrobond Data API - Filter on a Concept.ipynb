{
 "cells": [
  {
   "attachments": {},
   "cell_type": "markdown",
   "metadata": {},
   "source": [
    "# 2.2 - Macrobond Data API for Python - Filter on a Concept\n",
    "\n",
    "*Performing coverage checks based on Macrobond's RegionKey attribute*\n",
    "\n",
    "This notebook aims to provide examples of how to use Macrobond Data API for Python methods as well as insights on the key attributes used to display the output in an understandable format.\n",
    "\n",
    "We will focus here on using the Search method based on a **Concept** input. \n",
    "In the requests, the Concept is called **RegionKey**.\n",
    "This helps you find the market standard in each region for a pre-defined concept.\n",
    "A RegionKey associates a series with a concept, such as gdp_total. These concepts are identified by Macrobond and are used to find comparable series representing equivalent concepts across regions/countries. Each concept is held only by one designated series per region/country. In the Macrobond application, all series you find in the Concept & Category tree have the RegionKey attribute. You can inspect series to see if they have RegionKey attribute identifying a concept and then use this to search for the corresponding series for other regions.\n",
    "\n",
    "You can find a full description of all methods and parameters used in the examples in the [documentation of the API](https://macrobond.github.io/macrobond-data-api/common/api.html).\n",
    "\n",
    "*The examples uses the common functions of Macrobond API. Full error handling is omitted for brevity*"
   ]
  },
  {
   "cell_type": "markdown",
   "metadata": {},
   "source": [
    "***\n",
    "\n",
    "## Importing packages"
   ]
  },
  {
   "cell_type": "code",
   "execution_count": 1,
   "metadata": {},
   "outputs": [],
   "source": [
    "import macrobond_data_api as mda\n",
    "import pandas as pd"
   ]
  },
  {
   "attachments": {},
   "cell_type": "markdown",
   "metadata": {},
   "source": [
    "***\n",
    "\n",
    "## Get the data\n",
    "Our typical workflow starts with the information we find from a time series' metadata. From there, we will seek further information on these attributes. But, it is absolutely possible to skip this step and go to section [Searching time series carrying a similar concept](#searching-time-series-carrying-a-similar-concept) directly.\n",
    "Let's now request a time series to have a look at its metadata.\n",
    "\n",
    "In the example below, we will use time series `aulama0227`: \n",
    "> **Australia, Unemployment, Total, Rate, SA**"
   ]
  },
  {
   "attachments": {},
   "cell_type": "markdown",
   "metadata": {},
   "source": [
    "***\n",
    "\n",
    "## Visualising the metadata\n",
    "Let's visualise the metadata in a Pandas dataframe. \n",
    "You will see below the full list of metadata attributes available for our time series. \n",
    "As an alternative, you can also find information about the values on [this page](https://help.macrobond.com/technical-information/common-metadata/)."
   ]
  },
  {
   "cell_type": "code",
   "execution_count": 2,
   "metadata": {},
   "outputs": [],
   "source": [
    "mda.get_one_entity(\"aulama0227\")"
   ]
  },
  {
   "attachments": {},
   "cell_type": "markdown",
   "metadata": {},
   "source": [
    "We can spot in the metadata response `RegionKey = labor_umemp`. Let's use it as a parameter in the Search parameter to pull all the time series that carry the same concept."
   ]
  },
  {
   "cell_type": "markdown",
   "metadata": {},
   "source": [
    "***\n",
    "\n",
    "## Searching time series carrying a similar concept"
   ]
  },
  {
   "cell_type": "code",
   "execution_count": 5,
   "metadata": {},
   "outputs": [],
   "source": [
    "data_frame = mda.entity_search(\n",
    "    entity_types=\"TimeSeries\",\n",
    "    must_have_values={\"RegionKey\": \"labor_unemp\"},\n",
    "    include_discontinued=False,\n",
    ").to_pd_data_frame()[\n",
    "    [\n",
    "        \"Name\",\n",
    "        \"FullDescription\",\n",
    "        \"Region\",\n",
    "        \"RegionKey\",\n",
    "        \"Frequency\",\n",
    "        \"Source\",\n",
    "        \"FirstRevisionTimeStamp\",\n",
    "    ]\n",
    "]\n",
    "\n",
    "data_frame"
   ]
  }
 ],
 "metadata": {
  "kernelspec": {
   "display_name": "Python 3",
   "language": "python",
   "name": "python3"
  },
  "language_info": {
   "codemirror_mode": {
    "name": "ipython",
    "version": 3
   },
   "file_extension": ".py",
   "mimetype": "text/x-python",
   "name": "python",
   "nbconvert_exporter": "python",
   "pygments_lexer": "ipython3",
   "version": "3.11.1"
  },
  "vscode": {
   "interpreter": {
    "hash": "4c65b52ed67bf21a68d91eaf7359cae5864732179fe6cfc221f72bfe728ed10c"
   }
  }
 },
 "nbformat": 4,
 "nbformat_minor": 2
}
