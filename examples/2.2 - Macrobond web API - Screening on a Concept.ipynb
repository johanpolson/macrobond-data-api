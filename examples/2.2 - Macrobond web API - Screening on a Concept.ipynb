{
 "cells": [
  {
   "cell_type": "markdown",
   "metadata": {},
   "source": [
    "# 2.2 - Macrobond web API - Screening on a Concept\n",
    "\n",
    "*Performing coverage checks based on Macrobond's RegionKey attribute*\n",
    "\n",
    "This notebook aims to provide examples of how to use Macrobond's web API call methods as well as insights on the key attributes used to display the output in an understandable format.\n",
    "\n",
    "We will focus here on using the Search method based on a **RegionKey** input. This helps you find the market standard in each region for a pre-defined concept.\n",
    "\n",
    "*The examples uses the Web API, but you can chose to use the desktop COM API and get the same result. Full error handling is omitted for brevity*"
   ]
  },
  {
   "cell_type": "markdown",
   "metadata": {},
   "source": [
    "***\n",
    "\n",
    "## Importing packages"
   ]
  },
  {
   "cell_type": "code",
   "execution_count": null,
   "metadata": {},
   "outputs": [],
   "source": [
    "from matplotlib import pyplot\n",
    "\n",
    "from macrobond_data_api.web import WebClient"
   ]
  },
  {
   "cell_type": "markdown",
   "metadata": {},
   "source": [
    "***\n",
    "\n",
    "## Get the data\n",
    "Our typical workflow starts with the information we find from a time series' metadata. From there, we will seek further information on these attributes. But, it is absolutely possible to skip this step and go to section **Searching time series carrying a similar concept** directly.\n",
    "Let's now request a time series to have a look at its metadata.\n",
    "Feel free to refer to https://api.macrobondfinancial.com/swagger/index.html to get the comprehensive list of web API endpoints and parameters used.\n",
    "\n",
    "In the example below, we will use time series `aulama0227`: \n",
    "> **Australia, Unemployment, Total, Rate, SA**"
   ]
  },
  {
   "cell_type": "code",
   "execution_count": null,
   "metadata": {},
   "outputs": [],
   "source": []
  },
  {
   "cell_type": "markdown",
   "metadata": {},
   "source": [
    "***\n",
    "\n",
    "## Visualising the metadata\n",
    "Let's visualise the metadata in a Pandas dataframe. \n",
    "You will see below the full list of metadata attributes available for our time series. \n",
    "Feel free to visit this page for more information on these fields: https://help.macrobond.com/technical-information/common-metadata/"
   ]
  },
  {
   "cell_type": "code",
   "execution_count": null,
   "metadata": {},
   "outputs": [],
   "source": [
    "with WebClient() as api:\n",
    "    pd_series = api.get_one_entity(\"aulama0227\").metadata_to_pd_series()\n",
    "pd_series"
   ]
  },
  {
   "cell_type": "markdown",
   "metadata": {},
   "source": [
    "We can spot in the metadata response `RegionKey = labor_umemp`. Let's use it as a parameter in the Search method."
   ]
  },
  {
   "cell_type": "markdown",
   "metadata": {},
   "source": [
    "***\n",
    "\n",
    "## Searching time series carrying a similar concept"
   ]
  },
  {
   "cell_type": "code",
   "execution_count": null,
   "metadata": {},
   "outputs": [],
   "source": [
    "with WebClient() as api:\n",
    "    data_frame = api.entity_search(\n",
    "        entity_types=\"TimeSeries\",\n",
    "        must_have_values={\"RegionKey\": \"labor_unemp\"},\n",
    "        include_discontinued=False,\n",
    "    ).to_pd_data_frame()\n",
    "with WebClient() as api:\n",
    "    data_frame = api.entity_search(\n",
    "        entity_types=\"TimeSeries\",\n",
    "        must_have_values={\"RegionKey\": \"labor_unemp\"},\n",
    "        include_discontinued=False,\n",
    "    ).to_pd_data_frame()[\n",
    "        [\n",
    "            \"Name\",\n",
    "            \"FullDescription\",\n",
    "            \"Region\",\n",
    "            \"RegionKey\",\n",
    "            \"Frequency\",\n",
    "            \"Source\",\n",
    "            \"FirstRevisionTimeStamp\",\n",
    "        ]\n",
    "    ]\n",
    "# data_frame.head(10)\n",
    "data_frame.head(10)"
   ]
  },
  {
   "cell_type": "markdown",
   "metadata": {},
   "source": [
    "### We will now focus on the Point-in-Time (PiT) series in this coverage check\n",
    "Let's isolate the first element of the Region attribute. While most of the time series carry one region only, some can have multiple regions with for instance \"gb\" and \"gb,city_[xxx]\".\n",
    "Let's also convert the date-time to years only."
   ]
  },
  {
   "cell_type": "code",
   "execution_count": null,
   "metadata": {},
   "outputs": [],
   "source": [
    "data_frame[\"RegionString\"] = data_frame[\"Region\"].apply(lambda x: \", \".join(map(str, x)))\n",
    "data_frame[\"FirstRevisionYear\"] = data_frame[\"FirstRevisionTimeStamp\"].str[:4]\n",
    "data_frame.head(3)"
   ]
  },
  {
   "cell_type": "markdown",
   "metadata": {},
   "source": [
    "### Displaying the new DataFrame\n",
    "Let's see how our transformations have been applied by isolating on a few columns: `df.iloc[rows,[columns]]`. Note that we are also dropping NaN values in the FirstRevisionDate column: `df.dropna(subset=['FirstRevisionDate'])`"
   ]
  },
  {
   "cell_type": "code",
   "execution_count": null,
   "metadata": {
    "scrolled": true
   },
   "outputs": [],
   "source": [
    "data_frame_final = data_frame.dropna(subset=[\"FirstRevisionYear\"]).iloc[0:1000, [0, 1, 8, 4, 5, 7]]\n",
    "data_frame_final"
   ]
  },
  {
   "cell_type": "markdown",
   "metadata": {},
   "source": [
    "### Group the results by FirstRevisionYear and Frequency\n",
    "Note that Macrobond started to systematically collect PiT data in 2018. \n",
    "PiT coverage prior to 2018 has been backfilled by leveraging the source or internal collection logs."
   ]
  },
  {
   "cell_type": "code",
   "execution_count": null,
   "metadata": {},
   "outputs": [],
   "source": [
    "data_frame_group = (\n",
    "    data_frame_final.groupby([\"FirstRevisionYear\", \"Frequency\"])[\"Name\"].count().reset_index(name=\"Count\")\n",
    ")\n",
    "data_frame_group"
   ]
  },
  {
   "cell_type": "markdown",
   "metadata": {},
   "source": [
    "### Plot your results in a bar chart"
   ]
  },
  {
   "cell_type": "code",
   "execution_count": null,
   "metadata": {},
   "outputs": [],
   "source": [
    "pyplot.rcParams[\"figure.figsize\"] = [16, 9]\n",
    "\n",
    "Colours = [\n",
    "    (27 / 255, 54 / 255, 93 / 255),\n",
    "    (37 / 255, 107 / 255, 162 / 255),\n",
    "    (142 / 255, 81 / 255, 168 / 255),\n",
    "    (88 / 255, 162 / 255, 145 / 255),\n",
    "    (205 / 255, 84 / 255, 91 / 255),\n",
    "    (0 / 255, 79 / 255, 89 / 255),\n",
    "]\n",
    "pyplot.bar(data_frame_group[\"FirstRevisionYear\"], data_frame_group[\"Count\"], color=Colours)\n",
    "pyplot.title(\"FirstRevisionYear per RegionKey\", fontsize=14)\n",
    "pyplot.xlabel(\"PiT Start Year\", fontsize=14)\n",
    "pyplot.ylabel(\"Count\", fontsize=14)\n",
    "pyplot.grid(False)\n",
    "pyplot.autoscale()\n",
    "pyplot.show()"
   ]
  }
 ],
 "metadata": {
  "kernelspec": {
   "display_name": "Python 3",
   "language": "python",
   "name": "python3"
  },
  "language_info": {
   "codemirror_mode": {
    "name": "ipython",
    "version": 3
   },
   "file_extension": ".py",
   "mimetype": "text/x-python",
   "name": "python",
   "nbconvert_exporter": "python",
   "pygments_lexer": "ipython3",
   "version": "3.11.1 (tags/v3.11.1:a7a450f, Dec  6 2022, 19:58:39) [MSC v.1934 64 bit (AMD64)]"
  },
  "vscode": {
   "interpreter": {
    "hash": "306c8db229f0a89c06d03772a1eff5479204b8baa09cdbdfc80c0ee3ff96995d"
   }
  }
 },
 "nbformat": 4,
 "nbformat_minor": 2
}
