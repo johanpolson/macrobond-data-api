{
 "cells": [
  {
   "attachments": {},
   "cell_type": "markdown",
   "metadata": {},
   "source": [
    "# 2.1 - Macrobond Data API for Python - Basic Search\n",
    "\n",
    "*Performing coverage checks based on Macrobond's Categories*\n",
    "\n",
    "This notebook aims to provide examples of how to use Macrobond Data API for Python methods as well as insights on the key attributes used to display the output in an understandable format.\n",
    "\n",
    "We will focus on using the Search method based on a **Category** and **Region** inputs.\n",
    "Our data is arranged as a logical hierarchy of categories to help you find or narrow down related datasets quickly\n",
    "\n",
    "You can find a full description of all methods and parameters used in the examples in the [documentation of the API](https://macrobond.github.io/macrobond-data-api/common/api.html).\n",
    "\n",
    "*The examples uses the common functions of Macrobond API. Full error handling is omitted for brevity*"
   ]
  },
  {
   "cell_type": "markdown",
   "metadata": {},
   "source": [
    "***\n",
    "\n",
    "## Importing packages"
   ]
  },
  {
   "cell_type": "code",
   "execution_count": 0,
   "metadata": {},
   "outputs": [],
   "source": [
    "import macrobond_data_api as mda\n",
    "import pandas as pd"
   ]
  },
  {
   "attachments": {},
   "cell_type": "markdown",
   "metadata": {},
   "source": [
    "***\n",
    "\n",
    "## Get the data\n",
    "In the example below, we are using here the Search endpoint with filters on Category `inea`, Region `gb`: \n",
    "> **Income & Earnings series in the UK**\n",
    "\n",
    "In the notebook [1.1 - Metadata Navigation](./1.1%20-%20Macrobond%20Data%20API%20-%20Metadata%20Navigation.ipynb) you can find examples of how to obtain available categories and regions."
   ]
  },
  {
   "attachments": {},
   "cell_type": "markdown",
   "metadata": {},
   "source": [
    "***\n",
    "\n",
    "## Visualising the data\n",
    "Let's evaluate Macrobond's coverage for Income & Earnings-related time series in the United Kingdom.\n",
    "Note that by default, a Search query will not return more than 12,000 entities so we recommend you narrow down the universe based on further attributes. \n",
    "Please, refer to notebook 2.4 to be able to fetch up to 240,000 entities in a single response."
   ]
  },
  {
   "cell_type": "code",
   "execution_count": 0,
   "metadata": {},
   "outputs": [],
   "source": [
    "# help(mda.entity_search)\n",
    "data_frame = mda.entity_search(\n",
    "    entity_types=\"TimeSeries\", must_have_values={\"Region\": \"gb\", \"category\": \"inea\"}\n",
    ").to_pd_data_frame()[[\"Name\", \"FullDescription\", \"Region\", \"Frequency\", \"Source\", \"Release\"]]\n",
    "data_frame.shape"
   ]
  },
  {
   "cell_type": "code",
   "execution_count": 0,
   "metadata": {},
   "outputs": [],
   "source": [
    "data_frame.head(20)"
   ]
  }
 ],
 "metadata": {
  "kernelspec": {
   "display_name": "Python 3",
   "language": "python",
   "name": "python3"
  },
  "language_info": {
   "codemirror_mode": {
    "name": "ipython",
    "version": 3
   },
   "file_extension": ".py",
   "mimetype": "text/x-python",
   "name": "python",
   "nbconvert_exporter": "python",
   "pygments_lexer": "ipython3",
   "version": "3.11.1"
  },
  "vscode": {
   "interpreter": {
    "hash": "4c65b52ed67bf21a68d91eaf7359cae5864732179fe6cfc221f72bfe728ed10c"
   }
  }
 },
 "nbformat": 4,
 "nbformat_minor": 2
}
