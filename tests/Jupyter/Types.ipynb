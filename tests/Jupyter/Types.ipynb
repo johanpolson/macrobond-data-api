{
 "cells": [
  {
   "attachments": {},
   "cell_type": "markdown",
   "metadata": {},
   "source": [
    "# Test - Types"
   ]
  },
  {
   "cell_type": "code",
   "execution_count": 1,
   "metadata": {},
   "outputs": [],
   "source": [
    "from datetime import datetime\n",
    "from macrobond_data_api.common.types._repr_html_sequence import _ReprHtmlSequence\n",
    "from macrobond_data_api.common.enums import MetadataAttributeType\n",
    "from macrobond_data_api.common.types import (\n",
    "    SearchFilter,\n",
    "    SearchResult,\n",
    "    StartOrEndPoint,\n",
    "    SeriesEntry,\n",
    "    MetadataValueInformation,\n",
    "    MetadataAttributeInformation,\n",
    "    MetadataValueInformationItem,\n",
    "    RevisionInfo,\n",
    "    VintageSeries,\n",
    "    Series,\n",
    "    Entity,\n",
    "    UnifiedSeriesList,\n",
    "    GetAllVintageSeriesResult,\n",
    "    SeriesObservationHistory,\n",
    "    SeriesWithVintages,\n",
    "    RevisionHistoryRequest,\n",
    ")\n",
    "from macrobond_data_api.common.types import SearchResultLong\n",
    "from macrobond_data_api.web.web_types.subscription_list import SubscriptionList"
   ]
  },
  {
   "attachments": {},
   "cell_type": "markdown",
   "metadata": {},
   "source": [
    "## metadata"
   ]
  },
  {
   "cell_type": "code",
   "execution_count": 2,
   "metadata": {},
   "outputs": [
    {
     "data": {
      "text/html": [
       "<div>\n",
       "<style scoped>\n",
       "    .dataframe tbody tr th:only-of-type {\n",
       "        vertical-align: middle;\n",
       "    }\n",
       "\n",
       "    .dataframe tbody tr th {\n",
       "        vertical-align: top;\n",
       "    }\n",
       "\n",
       "    .dataframe thead th {\n",
       "        text-align: right;\n",
       "    }\n",
       "</style>\n",
       "<table border=\"1\" class=\"dataframe\">\n",
       "  <thead>\n",
       "    <tr style=\"text-align: right;\">\n",
       "      <th></th>\n",
       "      <th>name</th>\n",
       "      <th>data</th>\n",
       "      <th>meta4</th>\n",
       "    </tr>\n",
       "  </thead>\n",
       "  <tbody>\n",
       "    <tr>\n",
       "      <th>0</th>\n",
       "      <td>name1</td>\n",
       "      <td>1</td>\n",
       "      <td>NaN</td>\n",
       "    </tr>\n",
       "    <tr>\n",
       "      <th>1</th>\n",
       "      <td>name2</td>\n",
       "      <td>2</td>\n",
       "      <td>NaN</td>\n",
       "    </tr>\n",
       "    <tr>\n",
       "      <th>2</th>\n",
       "      <td>name2</td>\n",
       "      <td>2</td>\n",
       "      <td>4.0</td>\n",
       "    </tr>\n",
       "  </tbody>\n",
       "</table>\n",
       "</div>"
      ],
      "text/plain": [
       "SearchResult(entities=[{'name': 'name1', 'data': 1}, {'name': 'name2', 'data': 2}, {'name': 'name2', 'data': 2, 'meta4': 4}], is_truncated=False)"
      ]
     },
     "execution_count": 2,
     "metadata": {},
     "output_type": "execute_result"
    }
   ],
   "source": [
    "SearchResult(\n",
    "    [\n",
    "        {\"name\": \"name1\", \"data\": 1},\n",
    "        {\"name\": \"name2\", \"data\": 2},\n",
    "        {\"name\": \"name2\", \"data\": 2, \"meta4\": 4},\n",
    "    ],\n",
    "    False,\n",
    ")"
   ]
  },
  {
   "cell_type": "code",
   "execution_count": 3,
   "metadata": {},
   "outputs": [
    {
     "data": {
      "text/html": [
       "<h1>Name</h1><div>\n",
       "<style scoped>\n",
       "    .dataframe tbody tr th:only-of-type {\n",
       "        vertical-align: middle;\n",
       "    }\n",
       "\n",
       "    .dataframe tbody tr th {\n",
       "        vertical-align: top;\n",
       "    }\n",
       "\n",
       "    .dataframe thead th {\n",
       "        text-align: right;\n",
       "    }\n",
       "</style>\n",
       "<table border=\"1\" class=\"dataframe\">\n",
       "  <thead>\n",
       "    <tr style=\"text-align: right;\">\n",
       "      <th></th>\n",
       "      <th>value</th>\n",
       "      <th>description</th>\n",
       "      <th>comment</th>\n",
       "    </tr>\n",
       "  </thead>\n",
       "  <tbody>\n",
       "    <tr>\n",
       "      <th>0</th>\n",
       "      <td>1</td>\n",
       "      <td>description</td>\n",
       "      <td>comment</td>\n",
       "    </tr>\n",
       "    <tr>\n",
       "      <th>1</th>\n",
       "      <td>2</td>\n",
       "      <td>description</td>\n",
       "      <td>comment</td>\n",
       "    </tr>\n",
       "  </tbody>\n",
       "</table>\n",
       "</div>"
      ],
      "text/plain": [
       "MetadataValueInformation(entities=[MetadataValueInformationItem(attribute_name='Name', value=1, description='description ', comment='comment'), MetadataValueInformationItem(attribute_name='Name', value=2, description='description ', comment='comment')], attribute_name='Name')"
      ]
     },
     "execution_count": 3,
     "metadata": {},
     "output_type": "execute_result"
    }
   ],
   "source": [
    "MetadataValueInformation(\n",
    "    [\n",
    "        MetadataValueInformationItem(\"Name\", 1, \"description \", \"comment\"),\n",
    "        MetadataValueInformationItem(\"Name\", 2, \"description \", \"comment\"),\n",
    "    ],\n",
    "    \"Name\",\n",
    ")"
   ]
  },
  {
   "cell_type": "code",
   "execution_count": 4,
   "metadata": {},
   "outputs": [
    {
     "data": {
      "text/html": [
       "<div>\n",
       "<style scoped>\n",
       "    .dataframe tbody tr th:only-of-type {\n",
       "        vertical-align: middle;\n",
       "    }\n",
       "\n",
       "    .dataframe tbody tr th {\n",
       "        vertical-align: top;\n",
       "    }\n",
       "\n",
       "    .dataframe thead th {\n",
       "        text-align: right;\n",
       "    }\n",
       "</style>\n",
       "<table border=\"1\" class=\"dataframe\">\n",
       "  <thead>\n",
       "    <tr style=\"text-align: right;\">\n",
       "      <th></th>\n",
       "      <th>name</th>\n",
       "      <th>description</th>\n",
       "      <th>comment</th>\n",
       "      <th>value_type</th>\n",
       "      <th>uses_value_list</th>\n",
       "      <th>can_list_values</th>\n",
       "      <th>can_have_multiple_values</th>\n",
       "      <th>is_database_entity</th>\n",
       "    </tr>\n",
       "  </thead>\n",
       "  <tbody>\n",
       "    <tr>\n",
       "      <th>0</th>\n",
       "      <td>name 1</td>\n",
       "      <td>description</td>\n",
       "      <td>comment</td>\n",
       "      <td>DOUBLE (float)</td>\n",
       "      <td>True</td>\n",
       "      <td>True</td>\n",
       "      <td>True</td>\n",
       "      <td>True</td>\n",
       "    </tr>\n",
       "    <tr>\n",
       "      <th>0</th>\n",
       "      <td>name 2</td>\n",
       "      <td>descriptionsssssssssssssssss</td>\n",
       "      <td>comment</td>\n",
       "      <td>INT (int)</td>\n",
       "      <td>True</td>\n",
       "      <td>True</td>\n",
       "      <td>True</td>\n",
       "      <td>True</td>\n",
       "    </tr>\n",
       "  </tbody>\n",
       "</table>\n",
       "</div>"
      ],
      "text/plain": [
       "     name                   description  comment      value_type  \\\n",
       "0  name 1                   description  comment  DOUBLE (float)   \n",
       "0  name 2  descriptionsssssssssssssssss  comment       INT (int)   \n",
       "\n",
       "  uses_value_list can_list_values can_have_multiple_values is_database_entity  \n",
       "0            True            True                     True               True  \n",
       "0            True            True                     True               True  "
      ]
     },
     "metadata": {},
     "output_type": "display_data"
    }
   ],
   "source": [
    "_ReprHtmlSequence(\n",
    "    [\n",
    "        MetadataAttributeInformation(\n",
    "            \"name 1\", \"description\", \"comment\", MetadataAttributeType.DOUBLE, True, True, True, True\n",
    "        ),\n",
    "        MetadataAttributeInformation(\n",
    "            \"name 2\", \"descriptionsssssssssssssssss\", \"comment\", MetadataAttributeType.INT, True, True, True, True\n",
    "        ),\n",
    "    ]\n",
    ")"
   ]
  },
  {
   "cell_type": "code",
   "execution_count": 5,
   "metadata": {},
   "outputs": [
    {
     "data": {
      "text/html": [
       "<div>\n",
       "<style scoped>\n",
       "    .dataframe tbody tr th:only-of-type {\n",
       "        vertical-align: middle;\n",
       "    }\n",
       "\n",
       "    .dataframe tbody tr th {\n",
       "        vertical-align: top;\n",
       "    }\n",
       "\n",
       "    .dataframe thead th {\n",
       "        text-align: right;\n",
       "    }\n",
       "</style>\n",
       "<table border=\"1\" class=\"dataframe\">\n",
       "  <thead>\n",
       "    <tr style=\"text-align: right;\">\n",
       "      <th></th>\n",
       "      <th>attribute_name</th>\n",
       "      <th>value</th>\n",
       "      <th>description</th>\n",
       "      <th>comment</th>\n",
       "    </tr>\n",
       "  </thead>\n",
       "  <tbody>\n",
       "    <tr>\n",
       "      <th>0</th>\n",
       "      <td>name 1</td>\n",
       "      <td>2</td>\n",
       "      <td>description</td>\n",
       "      <td>comment</td>\n",
       "    </tr>\n",
       "    <tr>\n",
       "      <th>0</th>\n",
       "      <td>name 2</td>\n",
       "      <td>2</td>\n",
       "      <td>description</td>\n",
       "      <td>None</td>\n",
       "    </tr>\n",
       "  </tbody>\n",
       "</table>\n",
       "</div>"
      ],
      "text/plain": [
       "  attribute_name  value  description  comment\n",
       "0         name 1      2  description  comment\n",
       "0         name 2      2  description     None"
      ]
     },
     "metadata": {},
     "output_type": "display_data"
    }
   ],
   "source": [
    "_ReprHtmlSequence(\n",
    "    [\n",
    "        MetadataValueInformationItem(\"name 1\", 2, \"description\", \"comment\"),\n",
    "        MetadataValueInformationItem(\"name 2\", 2, \"description\", None),\n",
    "    ]\n",
    ")"
   ]
  },
  {
   "attachments": {},
   "cell_type": "markdown",
   "metadata": {},
   "source": [
    "## revision"
   ]
  },
  {
   "cell_type": "code",
   "execution_count": 6,
   "metadata": {},
   "outputs": [
    {
     "data": {
      "text/html": [
       "<div>\n",
       "<style scoped>\n",
       "    .dataframe tbody tr th:only-of-type {\n",
       "        vertical-align: middle;\n",
       "    }\n",
       "\n",
       "    .dataframe tbody tr th {\n",
       "        vertical-align: top;\n",
       "    }\n",
       "\n",
       "    .dataframe thead th {\n",
       "        text-align: right;\n",
       "    }\n",
       "</style>\n",
       "<table border=\"1\" class=\"dataframe\">\n",
       "  <thead>\n",
       "    <tr style=\"text-align: right;\">\n",
       "      <th></th>\n",
       "      <th>name</th>\n",
       "      <th>error_message</th>\n",
       "      <th>stores_revisions</th>\n",
       "      <th>has_revisions</th>\n",
       "      <th>time_stamp_of_first_revision</th>\n",
       "      <th>time_stamp_of_last_revision</th>\n",
       "      <th>vintage_time_stamps</th>\n",
       "    </tr>\n",
       "  </thead>\n",
       "  <tbody>\n",
       "    <tr>\n",
       "      <th>0</th>\n",
       "      <td>name 1</td>\n",
       "      <td></td>\n",
       "      <td>True</td>\n",
       "      <td>False</td>\n",
       "      <td>1000-01-01 00:00:00</td>\n",
       "      <td>1000-01-01 00:00:00</td>\n",
       "      <td>1000-01-01 00:00:00</td>\n",
       "    </tr>\n",
       "    <tr>\n",
       "      <th>1</th>\n",
       "      <td>name 1</td>\n",
       "      <td></td>\n",
       "      <td>True</td>\n",
       "      <td>False</td>\n",
       "      <td>1000-01-01 00:00:00</td>\n",
       "      <td>1000-01-01 00:00:00</td>\n",
       "      <td>1000-02-02 00:00:00</td>\n",
       "    </tr>\n",
       "    <tr>\n",
       "      <th>0</th>\n",
       "      <td>name 2</td>\n",
       "      <td></td>\n",
       "      <td>True</td>\n",
       "      <td>False</td>\n",
       "      <td>1000-01-01 00:00:00</td>\n",
       "      <td>1000-01-01 00:00:00</td>\n",
       "      <td>2000-01-01 00:00:00</td>\n",
       "    </tr>\n",
       "    <tr>\n",
       "      <th>1</th>\n",
       "      <td>name 2</td>\n",
       "      <td></td>\n",
       "      <td>True</td>\n",
       "      <td>False</td>\n",
       "      <td>1000-01-01 00:00:00</td>\n",
       "      <td>1000-01-01 00:00:00</td>\n",
       "      <td>2000-02-02 00:00:00</td>\n",
       "    </tr>\n",
       "    <tr>\n",
       "      <th>2</th>\n",
       "      <td>name 2</td>\n",
       "      <td></td>\n",
       "      <td>True</td>\n",
       "      <td>False</td>\n",
       "      <td>1000-01-01 00:00:00</td>\n",
       "      <td>1000-01-01 00:00:00</td>\n",
       "      <td>2000-03-03 00:00:00</td>\n",
       "    </tr>\n",
       "  </tbody>\n",
       "</table>\n",
       "</div>"
      ],
      "text/plain": [
       "     name error_message stores_revisions has_revisions  \\\n",
       "0  name 1                           True         False   \n",
       "1  name 1                           True         False   \n",
       "0  name 2                           True         False   \n",
       "1  name 2                           True         False   \n",
       "2  name 2                           True         False   \n",
       "\n",
       "  time_stamp_of_first_revision time_stamp_of_last_revision  \\\n",
       "0          1000-01-01 00:00:00         1000-01-01 00:00:00   \n",
       "1          1000-01-01 00:00:00         1000-01-01 00:00:00   \n",
       "0          1000-01-01 00:00:00         1000-01-01 00:00:00   \n",
       "1          1000-01-01 00:00:00         1000-01-01 00:00:00   \n",
       "2          1000-01-01 00:00:00         1000-01-01 00:00:00   \n",
       "\n",
       "   vintage_time_stamps  \n",
       "0  1000-01-01 00:00:00  \n",
       "1  1000-02-02 00:00:00  \n",
       "0  2000-01-01 00:00:00  \n",
       "1  2000-02-02 00:00:00  \n",
       "2  2000-03-03 00:00:00  "
      ]
     },
     "metadata": {},
     "output_type": "display_data"
    }
   ],
   "source": [
    "_ReprHtmlSequence(\n",
    "    [\n",
    "        RevisionInfo(\n",
    "            \"name 1\",\n",
    "            \"\",\n",
    "            True,\n",
    "            False,\n",
    "            datetime(1000, 1, 1),\n",
    "            datetime(1000, 1, 1),\n",
    "            [datetime(1000, 1, 1), datetime(1000, 2, 2)],\n",
    "        ),\n",
    "        RevisionInfo(\n",
    "            \"name 2\",\n",
    "            \"\",\n",
    "            True,\n",
    "            False,\n",
    "            datetime(1000, 1, 1),\n",
    "            datetime(1000, 1, 1),\n",
    "            [datetime(2000, 1, 1), datetime(2000, 2, 2), datetime(2000, 3, 3)],\n",
    "        ),\n",
    "        RevisionInfo(\"name 3\", \"error_message\", False, False, None, None, []),\n",
    "    ]\n",
    ")"
   ]
  },
  {
   "cell_type": "code",
   "execution_count": 7,
   "metadata": {},
   "outputs": [
    {
     "ename": "TypeError",
     "evalue": "__init__() missing 7 required positional arguments: 'name', 'error_message', 'metadata', 'values_metadata', 'values', 'dates', and '_revision_time_stamp'",
     "output_type": "error",
     "traceback": [
      "\u001b[1;31m---------------------------------------------------------------------------\u001b[0m",
      "\u001b[1;31mTypeError\u001b[0m                                 Traceback (most recent call last)",
      "\u001b[1;32m~\\AppData\\Local\\Temp\\ipykernel_33448\\2794786347.py\u001b[0m in \u001b[0;36m<module>\u001b[1;34m\u001b[0m\n\u001b[1;32m----> 1\u001b[1;33m \u001b[0m_ReprHtmlSequence\u001b[0m\u001b[1;33m(\u001b[0m\u001b[1;33m[\u001b[0m\u001b[0mVintageSeries\u001b[0m\u001b[1;33m(\u001b[0m\u001b[1;33m)\u001b[0m\u001b[1;33m]\u001b[0m\u001b[1;33m)\u001b[0m\u001b[1;33m\u001b[0m\u001b[1;33m\u001b[0m\u001b[0m\n\u001b[0m",
      "\u001b[1;31mTypeError\u001b[0m: __init__() missing 7 required positional arguments: 'name', 'error_message', 'metadata', 'values_metadata', 'values', 'dates', and '_revision_time_stamp'"
     ]
    }
   ],
   "source": [
    "_ReprHtmlSequence([VintageSeries()])"
   ]
  },
  {
   "cell_type": "code",
   "execution_count": null,
   "metadata": {},
   "outputs": [],
   "source": [
    "_ReprHtmlSequence([Series()])"
   ]
  },
  {
   "cell_type": "code",
   "execution_count": null,
   "metadata": {},
   "outputs": [],
   "source": [
    "GetAllVintageSeriesResult()"
   ]
  },
  {
   "cell_type": "code",
   "execution_count": null,
   "metadata": {},
   "outputs": [],
   "source": [
    "_ReprHtmlSequence([SeriesObservationHistory()])"
   ]
  },
  {
   "cell_type": "code",
   "execution_count": null,
   "metadata": {},
   "outputs": [],
   "source": [
    "_ReprHtmlSequence([SeriesWithVintages()])"
   ]
  },
  {
   "attachments": {},
   "cell_type": "markdown",
   "metadata": {},
   "source": [
    "## Search"
   ]
  },
  {
   "cell_type": "code",
   "execution_count": null,
   "metadata": {},
   "outputs": [],
   "source": [
    "SearchResult()"
   ]
  },
  {
   "attachments": {},
   "cell_type": "markdown",
   "metadata": {},
   "source": [
    "## Series"
   ]
  },
  {
   "cell_type": "code",
   "execution_count": null,
   "metadata": {},
   "outputs": [],
   "source": [
    "Series()"
   ]
  },
  {
   "cell_type": "code",
   "execution_count": null,
   "metadata": {},
   "outputs": [],
   "source": [
    "_ReprHtmlSequence([Series(), Series()])"
   ]
  },
  {
   "cell_type": "code",
   "execution_count": null,
   "metadata": {},
   "outputs": [],
   "source": [
    "Entity()"
   ]
  },
  {
   "cell_type": "code",
   "execution_count": null,
   "metadata": {},
   "outputs": [],
   "source": [
    "_ReprHtmlSequence([Entity(), Entity()])"
   ]
  },
  {
   "cell_type": "code",
   "execution_count": null,
   "metadata": {},
   "outputs": [],
   "source": [
    "UnifiedSeriesList()"
   ]
  },
  {
   "attachments": {},
   "cell_type": "markdown",
   "metadata": {},
   "source": [
    "## web only"
   ]
  },
  {
   "cell_type": "code",
   "execution_count": null,
   "metadata": {},
   "outputs": [],
   "source": [
    "SubscriptionList()"
   ]
  },
  {
   "cell_type": "code",
   "execution_count": null,
   "metadata": {},
   "outputs": [],
   "source": [
    "SearchResultLong()"
   ]
  }
 ],
 "metadata": {
  "kernelspec": {
   "display_name": "Python 3",
   "language": "python",
   "name": "python3"
  },
  "language_info": {
   "codemirror_mode": {
    "name": "ipython",
    "version": 3
   },
   "file_extension": ".py",
   "mimetype": "text/x-python",
   "name": "python",
   "nbconvert_exporter": "python",
   "pygments_lexer": "ipython3",
   "version": "3.7.9"
  },
  "vscode": {
   "interpreter": {
    "hash": "306c8db229f0a89c06d03772a1eff5479204b8baa09cdbdfc80c0ee3ff96995d"
   }
  }
 },
 "nbformat": 4,
 "nbformat_minor": 2
}
